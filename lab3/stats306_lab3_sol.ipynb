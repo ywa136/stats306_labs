{
 "cells": [
  {
   "cell_type": "markdown",
   "metadata": {},
   "source": [
    "# Lab 3: EDA on Chipotle Orders"
   ]
  },
  {
   "cell_type": "markdown",
   "metadata": {},
   "source": [
    "Today, we look at what people order at Chipotle. Some example questions we are interested in are:\n",
    "- How much do people spend on average at Chipotle?\n",
    "- Do people prefer bowls or burritos?\n",
    "- What percentage of people order drinks?\n",
    "- ..."
   ]
  },
  {
   "cell_type": "code",
   "execution_count": 15,
   "metadata": {},
   "outputs": [],
   "source": [
    "# read in necessary packages and data\n",
    "library(tidyverse)\n",
    "df <- read.csv(\"chipotle.csv\", stringsAsFactors = F)\n",
    "df$X <- NULL"
   ]
  },
  {
   "cell_type": "code",
   "execution_count": 2,
   "metadata": {},
   "outputs": [
    {
     "data": {
      "text/plain": [
       "    order_id         quantity       item_name         choice_description\n",
       " Min.   :   1.0   Min.   : 1.000   Length:4622        Length:4622       \n",
       " 1st Qu.: 477.2   1st Qu.: 1.000   Class :character   Class :character  \n",
       " Median : 926.0   Median : 1.000   Mode  :character   Mode  :character  \n",
       " Mean   : 927.3   Mean   : 1.076                                        \n",
       " 3rd Qu.:1393.0   3rd Qu.: 1.000                                        \n",
       " Max.   :1834.0   Max.   :15.000                                        \n",
       "  item_price       \n",
       " Length:4622       \n",
       " Class :character  \n",
       " Mode  :character  \n",
       "                   \n",
       "                   \n",
       "                   "
      ]
     },
     "metadata": {},
     "output_type": "display_data"
    }
   ],
   "source": [
    "summary(df)"
   ]
  },
  {
   "cell_type": "markdown",
   "metadata": {},
   "source": [
    "### Q1: what are the top 5 most popular items? (let's assume item_name are well-maintained, i.e., chicken bowl won't be listed as both Chicken Bowl and chicken bowl)"
   ]
  },
  {
   "cell_type": "code",
   "execution_count": 9,
   "metadata": {},
   "outputs": [
    {
     "data": {
      "text/html": [
       "<table>\n",
       "<caption>A tibble: 50 × 2</caption>\n",
       "<thead>\n",
       "\t<tr><th scope=col>item_name</th><th scope=col>counts</th></tr>\n",
       "\t<tr><th scope=col>&lt;chr&gt;</th><th scope=col>&lt;int&gt;</th></tr>\n",
       "</thead>\n",
       "<tbody>\n",
       "\t<tr><td>Chicken Bowl                         </td><td>726</td></tr>\n",
       "\t<tr><td>Chicken Burrito                      </td><td>553</td></tr>\n",
       "\t<tr><td>Chips and Guacamole                  </td><td>479</td></tr>\n",
       "\t<tr><td>Steak Burrito                        </td><td>368</td></tr>\n",
       "\t<tr><td>Canned Soft Drink                    </td><td>301</td></tr>\n",
       "\t<tr><td>Chips                                </td><td>211</td></tr>\n",
       "\t<tr><td>Steak Bowl                           </td><td>211</td></tr>\n",
       "\t<tr><td>Bottled Water                        </td><td>162</td></tr>\n",
       "\t<tr><td>Chicken Soft Tacos                   </td><td>115</td></tr>\n",
       "\t<tr><td>Chicken Salad Bowl                   </td><td>110</td></tr>\n",
       "\t<tr><td>Chips and Fresh Tomato Salsa         </td><td>110</td></tr>\n",
       "\t<tr><td>Canned Soda                          </td><td>104</td></tr>\n",
       "\t<tr><td>Side of Chips                        </td><td>101</td></tr>\n",
       "\t<tr><td>Veggie Burrito                       </td><td> 95</td></tr>\n",
       "\t<tr><td>Barbacoa Burrito                     </td><td> 91</td></tr>\n",
       "\t<tr><td>Veggie Bowl                          </td><td> 85</td></tr>\n",
       "\t<tr><td>Carnitas Bowl                        </td><td> 68</td></tr>\n",
       "\t<tr><td>Barbacoa Bowl                        </td><td> 66</td></tr>\n",
       "\t<tr><td>Carnitas Burrito                     </td><td> 59</td></tr>\n",
       "\t<tr><td>Steak Soft Tacos                     </td><td> 55</td></tr>\n",
       "\t<tr><td>6 Pack Soft Drink                    </td><td> 54</td></tr>\n",
       "\t<tr><td>Chips and Tomatillo Red Chili Salsa  </td><td> 48</td></tr>\n",
       "\t<tr><td>Chicken Crispy Tacos                 </td><td> 47</td></tr>\n",
       "\t<tr><td>Chips and Tomatillo Green Chili Salsa</td><td> 43</td></tr>\n",
       "\t<tr><td>Carnitas Soft Tacos                  </td><td> 40</td></tr>\n",
       "\t<tr><td>Steak Crispy Tacos                   </td><td> 35</td></tr>\n",
       "\t<tr><td>Chips and Tomatillo-Green Chili Salsa</td><td> 31</td></tr>\n",
       "\t<tr><td>Steak Salad Bowl                     </td><td> 29</td></tr>\n",
       "\t<tr><td>Nantucket Nectar                     </td><td> 27</td></tr>\n",
       "\t<tr><td>Barbacoa Soft Tacos                  </td><td> 25</td></tr>\n",
       "\t<tr><td>Chips and Roasted Chili Corn Salsa   </td><td> 22</td></tr>\n",
       "\t<tr><td>Chips and Tomatillo-Red Chili Salsa  </td><td> 20</td></tr>\n",
       "\t<tr><td>Izze                                 </td><td> 20</td></tr>\n",
       "\t<tr><td>Chips and Roasted Chili-Corn Salsa   </td><td> 18</td></tr>\n",
       "\t<tr><td>Veggie Salad Bowl                    </td><td> 18</td></tr>\n",
       "\t<tr><td>Barbacoa Crispy Tacos                </td><td> 11</td></tr>\n",
       "\t<tr><td>Barbacoa Salad Bowl                  </td><td> 10</td></tr>\n",
       "\t<tr><td>Chicken Salad                        </td><td>  9</td></tr>\n",
       "\t<tr><td>Carnitas Crispy Tacos                </td><td>  7</td></tr>\n",
       "\t<tr><td>Veggie Soft Tacos                    </td><td>  7</td></tr>\n",
       "\t<tr><td>Burrito                              </td><td>  6</td></tr>\n",
       "\t<tr><td>Carnitas Salad Bowl                  </td><td>  6</td></tr>\n",
       "\t<tr><td>Veggie Salad                         </td><td>  6</td></tr>\n",
       "\t<tr><td>Steak Salad                          </td><td>  4</td></tr>\n",
       "\t<tr><td>Bowl                                 </td><td>  2</td></tr>\n",
       "\t<tr><td>Crispy Tacos                         </td><td>  2</td></tr>\n",
       "\t<tr><td>Salad                                </td><td>  2</td></tr>\n",
       "\t<tr><td>Carnitas Salad                       </td><td>  1</td></tr>\n",
       "\t<tr><td>Chips and Mild Fresh Tomato Salsa    </td><td>  1</td></tr>\n",
       "\t<tr><td>Veggie Crispy Tacos                  </td><td>  1</td></tr>\n",
       "</tbody>\n",
       "</table>\n"
      ],
      "text/latex": [
       "A tibble: 50 × 2\n",
       "\\begin{tabular}{r|ll}\n",
       " item\\_name & counts\\\\\n",
       " <chr> & <int>\\\\\n",
       "\\hline\n",
       "\t Chicken Bowl                          & 726\\\\\n",
       "\t Chicken Burrito                       & 553\\\\\n",
       "\t Chips and Guacamole                   & 479\\\\\n",
       "\t Steak Burrito                         & 368\\\\\n",
       "\t Canned Soft Drink                     & 301\\\\\n",
       "\t Chips                                 & 211\\\\\n",
       "\t Steak Bowl                            & 211\\\\\n",
       "\t Bottled Water                         & 162\\\\\n",
       "\t Chicken Soft Tacos                    & 115\\\\\n",
       "\t Chicken Salad Bowl                    & 110\\\\\n",
       "\t Chips and Fresh Tomato Salsa          & 110\\\\\n",
       "\t Canned Soda                           & 104\\\\\n",
       "\t Side of Chips                         & 101\\\\\n",
       "\t Veggie Burrito                        &  95\\\\\n",
       "\t Barbacoa Burrito                      &  91\\\\\n",
       "\t Veggie Bowl                           &  85\\\\\n",
       "\t Carnitas Bowl                         &  68\\\\\n",
       "\t Barbacoa Bowl                         &  66\\\\\n",
       "\t Carnitas Burrito                      &  59\\\\\n",
       "\t Steak Soft Tacos                      &  55\\\\\n",
       "\t 6 Pack Soft Drink                     &  54\\\\\n",
       "\t Chips and Tomatillo Red Chili Salsa   &  48\\\\\n",
       "\t Chicken Crispy Tacos                  &  47\\\\\n",
       "\t Chips and Tomatillo Green Chili Salsa &  43\\\\\n",
       "\t Carnitas Soft Tacos                   &  40\\\\\n",
       "\t Steak Crispy Tacos                    &  35\\\\\n",
       "\t Chips and Tomatillo-Green Chili Salsa &  31\\\\\n",
       "\t Steak Salad Bowl                      &  29\\\\\n",
       "\t Nantucket Nectar                      &  27\\\\\n",
       "\t Barbacoa Soft Tacos                   &  25\\\\\n",
       "\t Chips and Roasted Chili Corn Salsa    &  22\\\\\n",
       "\t Chips and Tomatillo-Red Chili Salsa   &  20\\\\\n",
       "\t Izze                                  &  20\\\\\n",
       "\t Chips and Roasted Chili-Corn Salsa    &  18\\\\\n",
       "\t Veggie Salad Bowl                     &  18\\\\\n",
       "\t Barbacoa Crispy Tacos                 &  11\\\\\n",
       "\t Barbacoa Salad Bowl                   &  10\\\\\n",
       "\t Chicken Salad                         &   9\\\\\n",
       "\t Carnitas Crispy Tacos                 &   7\\\\\n",
       "\t Veggie Soft Tacos                     &   7\\\\\n",
       "\t Burrito                               &   6\\\\\n",
       "\t Carnitas Salad Bowl                   &   6\\\\\n",
       "\t Veggie Salad                          &   6\\\\\n",
       "\t Steak Salad                           &   4\\\\\n",
       "\t Bowl                                  &   2\\\\\n",
       "\t Crispy Tacos                          &   2\\\\\n",
       "\t Salad                                 &   2\\\\\n",
       "\t Carnitas Salad                        &   1\\\\\n",
       "\t Chips and Mild Fresh Tomato Salsa     &   1\\\\\n",
       "\t Veggie Crispy Tacos                   &   1\\\\\n",
       "\\end{tabular}\n"
      ],
      "text/markdown": [
       "\n",
       "A tibble: 50 × 2\n",
       "\n",
       "| item_name &lt;chr&gt; | counts &lt;int&gt; |\n",
       "|---|---|\n",
       "| Chicken Bowl                          | 726 |\n",
       "| Chicken Burrito                       | 553 |\n",
       "| Chips and Guacamole                   | 479 |\n",
       "| Steak Burrito                         | 368 |\n",
       "| Canned Soft Drink                     | 301 |\n",
       "| Chips                                 | 211 |\n",
       "| Steak Bowl                            | 211 |\n",
       "| Bottled Water                         | 162 |\n",
       "| Chicken Soft Tacos                    | 115 |\n",
       "| Chicken Salad Bowl                    | 110 |\n",
       "| Chips and Fresh Tomato Salsa          | 110 |\n",
       "| Canned Soda                           | 104 |\n",
       "| Side of Chips                         | 101 |\n",
       "| Veggie Burrito                        |  95 |\n",
       "| Barbacoa Burrito                      |  91 |\n",
       "| Veggie Bowl                           |  85 |\n",
       "| Carnitas Bowl                         |  68 |\n",
       "| Barbacoa Bowl                         |  66 |\n",
       "| Carnitas Burrito                      |  59 |\n",
       "| Steak Soft Tacos                      |  55 |\n",
       "| 6 Pack Soft Drink                     |  54 |\n",
       "| Chips and Tomatillo Red Chili Salsa   |  48 |\n",
       "| Chicken Crispy Tacos                  |  47 |\n",
       "| Chips and Tomatillo Green Chili Salsa |  43 |\n",
       "| Carnitas Soft Tacos                   |  40 |\n",
       "| Steak Crispy Tacos                    |  35 |\n",
       "| Chips and Tomatillo-Green Chili Salsa |  31 |\n",
       "| Steak Salad Bowl                      |  29 |\n",
       "| Nantucket Nectar                      |  27 |\n",
       "| Barbacoa Soft Tacos                   |  25 |\n",
       "| Chips and Roasted Chili Corn Salsa    |  22 |\n",
       "| Chips and Tomatillo-Red Chili Salsa   |  20 |\n",
       "| Izze                                  |  20 |\n",
       "| Chips and Roasted Chili-Corn Salsa    |  18 |\n",
       "| Veggie Salad Bowl                     |  18 |\n",
       "| Barbacoa Crispy Tacos                 |  11 |\n",
       "| Barbacoa Salad Bowl                   |  10 |\n",
       "| Chicken Salad                         |   9 |\n",
       "| Carnitas Crispy Tacos                 |   7 |\n",
       "| Veggie Soft Tacos                     |   7 |\n",
       "| Burrito                               |   6 |\n",
       "| Carnitas Salad Bowl                   |   6 |\n",
       "| Veggie Salad                          |   6 |\n",
       "| Steak Salad                           |   4 |\n",
       "| Bowl                                  |   2 |\n",
       "| Crispy Tacos                          |   2 |\n",
       "| Salad                                 |   2 |\n",
       "| Carnitas Salad                        |   1 |\n",
       "| Chips and Mild Fresh Tomato Salsa     |   1 |\n",
       "| Veggie Crispy Tacos                   |   1 |\n",
       "\n"
      ],
      "text/plain": [
       "   item_name                             counts\n",
       "1  Chicken Bowl                          726   \n",
       "2  Chicken Burrito                       553   \n",
       "3  Chips and Guacamole                   479   \n",
       "4  Steak Burrito                         368   \n",
       "5  Canned Soft Drink                     301   \n",
       "6  Chips                                 211   \n",
       "7  Steak Bowl                            211   \n",
       "8  Bottled Water                         162   \n",
       "9  Chicken Soft Tacos                    115   \n",
       "10 Chicken Salad Bowl                    110   \n",
       "11 Chips and Fresh Tomato Salsa          110   \n",
       "12 Canned Soda                           104   \n",
       "13 Side of Chips                         101   \n",
       "14 Veggie Burrito                         95   \n",
       "15 Barbacoa Burrito                       91   \n",
       "16 Veggie Bowl                            85   \n",
       "17 Carnitas Bowl                          68   \n",
       "18 Barbacoa Bowl                          66   \n",
       "19 Carnitas Burrito                       59   \n",
       "20 Steak Soft Tacos                       55   \n",
       "21 6 Pack Soft Drink                      54   \n",
       "22 Chips and Tomatillo Red Chili Salsa    48   \n",
       "23 Chicken Crispy Tacos                   47   \n",
       "24 Chips and Tomatillo Green Chili Salsa  43   \n",
       "25 Carnitas Soft Tacos                    40   \n",
       "26 Steak Crispy Tacos                     35   \n",
       "27 Chips and Tomatillo-Green Chili Salsa  31   \n",
       "28 Steak Salad Bowl                       29   \n",
       "29 Nantucket Nectar                       27   \n",
       "30 Barbacoa Soft Tacos                    25   \n",
       "31 Chips and Roasted Chili Corn Salsa     22   \n",
       "32 Chips and Tomatillo-Red Chili Salsa    20   \n",
       "33 Izze                                   20   \n",
       "34 Chips and Roasted Chili-Corn Salsa     18   \n",
       "35 Veggie Salad Bowl                      18   \n",
       "36 Barbacoa Crispy Tacos                  11   \n",
       "37 Barbacoa Salad Bowl                    10   \n",
       "38 Chicken Salad                           9   \n",
       "39 Carnitas Crispy Tacos                   7   \n",
       "40 Veggie Soft Tacos                       7   \n",
       "41 Burrito                                 6   \n",
       "42 Carnitas Salad Bowl                     6   \n",
       "43 Veggie Salad                            6   \n",
       "44 Steak Salad                             4   \n",
       "45 Bowl                                    2   \n",
       "46 Crispy Tacos                            2   \n",
       "47 Salad                                   2   \n",
       "48 Carnitas Salad                          1   \n",
       "49 Chips and Mild Fresh Tomato Salsa       1   \n",
       "50 Veggie Crispy Tacos                     1   "
      ]
     },
     "metadata": {},
     "output_type": "display_data"
    }
   ],
   "source": [
    "# top_n(count(df, item_name), 5)  %>% arrange(desc(n))\n",
    "\n",
    "df %>% group_by(item_name) %>% summarise(counts = n()) %>% arrange(desc(counts))"
   ]
  },
  {
   "cell_type": "markdown",
   "metadata": {},
   "source": [
    "### Q2: item_price is strings right now. Can we remove the dollar sign and convert it to numerical?"
   ]
  },
  {
   "cell_type": "code",
   "execution_count": 17,
   "metadata": {},
   "outputs": [
    {
     "data": {
      "text/html": [
       "<table>\n",
       "<caption>A data.frame: 6 × 5</caption>\n",
       "<thead>\n",
       "\t<tr><th scope=col>order_id</th><th scope=col>quantity</th><th scope=col>item_name</th><th scope=col>choice_description</th><th scope=col>item_price</th></tr>\n",
       "\t<tr><th scope=col>&lt;int&gt;</th><th scope=col>&lt;int&gt;</th><th scope=col>&lt;chr&gt;</th><th scope=col>&lt;chr&gt;</th><th scope=col>&lt;dbl&gt;</th></tr>\n",
       "</thead>\n",
       "<tbody>\n",
       "\t<tr><td>1</td><td>1</td><td>Chips and Fresh Tomato Salsa         </td><td>                                                                           </td><td> 2.39</td></tr>\n",
       "\t<tr><td>1</td><td>1</td><td>Izze                                 </td><td>[Clementine]                                                               </td><td> 3.39</td></tr>\n",
       "\t<tr><td>1</td><td>1</td><td>Nantucket Nectar                     </td><td>[Apple]                                                                    </td><td> 3.39</td></tr>\n",
       "\t<tr><td>1</td><td>1</td><td>Chips and Tomatillo-Green Chili Salsa</td><td>                                                                           </td><td> 2.39</td></tr>\n",
       "\t<tr><td>2</td><td>2</td><td>Chicken Bowl                         </td><td>[Tomatillo-Red Chili Salsa (Hot), [Black Beans, Rice, Cheese, Sour Cream]] </td><td>16.98</td></tr>\n",
       "\t<tr><td>3</td><td>1</td><td>Chicken Bowl                         </td><td>[Fresh Tomato Salsa (Mild), [Rice, Cheese, Sour Cream, Guacamole, Lettuce]]</td><td>10.98</td></tr>\n",
       "</tbody>\n",
       "</table>\n"
      ],
      "text/latex": [
       "A data.frame: 6 × 5\n",
       "\\begin{tabular}{r|lllll}\n",
       " order\\_id & quantity & item\\_name & choice\\_description & item\\_price\\\\\n",
       " <int> & <int> & <chr> & <chr> & <dbl>\\\\\n",
       "\\hline\n",
       "\t 1 & 1 & Chips and Fresh Tomato Salsa          &                                                                             &  2.39\\\\\n",
       "\t 1 & 1 & Izze                                  & {[}Clementine{]}                                                                &  3.39\\\\\n",
       "\t 1 & 1 & Nantucket Nectar                      & {[}Apple{]}                                                                     &  3.39\\\\\n",
       "\t 1 & 1 & Chips and Tomatillo-Green Chili Salsa &                                                                             &  2.39\\\\\n",
       "\t 2 & 2 & Chicken Bowl                          & {[}Tomatillo-Red Chili Salsa (Hot), {[}Black Beans, Rice, Cheese, Sour Cream{]}{]}  & 16.98\\\\\n",
       "\t 3 & 1 & Chicken Bowl                          & {[}Fresh Tomato Salsa (Mild), {[}Rice, Cheese, Sour Cream, Guacamole, Lettuce{]}{]} & 10.98\\\\\n",
       "\\end{tabular}\n"
      ],
      "text/markdown": [
       "\n",
       "A data.frame: 6 × 5\n",
       "\n",
       "| order_id &lt;int&gt; | quantity &lt;int&gt; | item_name &lt;chr&gt; | choice_description &lt;chr&gt; | item_price &lt;dbl&gt; |\n",
       "|---|---|---|---|---|\n",
       "| 1 | 1 | Chips and Fresh Tomato Salsa          | <!----> |  2.39 |\n",
       "| 1 | 1 | Izze                                  | [Clementine]                                                                |  3.39 |\n",
       "| 1 | 1 | Nantucket Nectar                      | [Apple]                                                                     |  3.39 |\n",
       "| 1 | 1 | Chips and Tomatillo-Green Chili Salsa | <!----> |  2.39 |\n",
       "| 2 | 2 | Chicken Bowl                          | [Tomatillo-Red Chili Salsa (Hot), [Black Beans, Rice, Cheese, Sour Cream]]  | 16.98 |\n",
       "| 3 | 1 | Chicken Bowl                          | [Fresh Tomato Salsa (Mild), [Rice, Cheese, Sour Cream, Guacamole, Lettuce]] | 10.98 |\n",
       "\n"
      ],
      "text/plain": [
       "  order_id quantity item_name                            \n",
       "1 1        1        Chips and Fresh Tomato Salsa         \n",
       "2 1        1        Izze                                 \n",
       "3 1        1        Nantucket Nectar                     \n",
       "4 1        1        Chips and Tomatillo-Green Chili Salsa\n",
       "5 2        2        Chicken Bowl                         \n",
       "6 3        1        Chicken Bowl                         \n",
       "  choice_description                                                         \n",
       "1                                                                            \n",
       "2 [Clementine]                                                               \n",
       "3 [Apple]                                                                    \n",
       "4                                                                            \n",
       "5 [Tomatillo-Red Chili Salsa (Hot), [Black Beans, Rice, Cheese, Sour Cream]] \n",
       "6 [Fresh Tomato Salsa (Mild), [Rice, Cheese, Sour Cream, Guacamole, Lettuce]]\n",
       "  item_price\n",
       "1  2.39     \n",
       "2  3.39     \n",
       "3  3.39     \n",
       "4  2.39     \n",
       "5 16.98     \n",
       "6 10.98     "
      ]
     },
     "metadata": {},
     "output_type": "display_data"
    }
   ],
   "source": [
    "# df = df %>%\n",
    "#         mutate(item_price = as.numeric(str_extract(item_price, \"([0-9]+).*$\")))\n",
    "\n",
    "# ?substring\n",
    "df <- df %>% mutate(item_price = as.numeric(substring(item_price,2)))\n",
    "head(df)"
   ]
  },
  {
   "cell_type": "markdown",
   "metadata": {},
   "source": [
    "### Q3: Construct a table where for each item, we have amount sold, total revenue, max price sold, min price sold, mean price sold; arrange in decreasing order of amount sold.\n",
    "\n",
    "I have done this for you, and my solution is:"
   ]
  },
  {
   "cell_type": "code",
   "execution_count": 18,
   "metadata": {},
   "outputs": [
    {
     "data": {
      "text/html": [
       "<table>\n",
       "<caption>A tibble: 6 × 6</caption>\n",
       "<thead>\n",
       "\t<tr><th scope=col>item_name</th><th scope=col>revenue</th><th scope=col>itemsold</th><th scope=col>meanprice</th><th scope=col>maxprice</th><th scope=col>minprice</th></tr>\n",
       "\t<tr><th scope=col>&lt;chr&gt;</th><th scope=col>&lt;dbl&gt;</th><th scope=col>&lt;int&gt;</th><th scope=col>&lt;dbl&gt;</th><th scope=col>&lt;dbl&gt;</th><th scope=col>&lt;dbl&gt;</th></tr>\n",
       "</thead>\n",
       "<tbody>\n",
       "\t<tr><td>Chicken Bowl       </td><td>7342.73</td><td>726</td><td>10.113953</td><td>32.94</td><td>8.19</td></tr>\n",
       "\t<tr><td>Chicken Burrito    </td><td>5575.82</td><td>553</td><td>10.082857</td><td>35.00</td><td>8.19</td></tr>\n",
       "\t<tr><td>Chips and Guacamole</td><td>2201.04</td><td>479</td><td> 4.595073</td><td>17.80</td><td>3.89</td></tr>\n",
       "\t<tr><td>Steak Burrito      </td><td>3851.43</td><td>368</td><td>10.465842</td><td>27.75</td><td>8.69</td></tr>\n",
       "\t<tr><td>Canned Soft Drink  </td><td> 438.75</td><td>301</td><td> 1.457641</td><td> 5.00</td><td>1.25</td></tr>\n",
       "\t<tr><td>Chips              </td><td> 494.34</td><td>211</td><td> 2.342844</td><td> 6.45</td><td>1.99</td></tr>\n",
       "</tbody>\n",
       "</table>\n"
      ],
      "text/latex": [
       "A tibble: 6 × 6\n",
       "\\begin{tabular}{r|llllll}\n",
       " item\\_name & revenue & itemsold & meanprice & maxprice & minprice\\\\\n",
       " <chr> & <dbl> & <int> & <dbl> & <dbl> & <dbl>\\\\\n",
       "\\hline\n",
       "\t Chicken Bowl        & 7342.73 & 726 & 10.113953 & 32.94 & 8.19\\\\\n",
       "\t Chicken Burrito     & 5575.82 & 553 & 10.082857 & 35.00 & 8.19\\\\\n",
       "\t Chips and Guacamole & 2201.04 & 479 &  4.595073 & 17.80 & 3.89\\\\\n",
       "\t Steak Burrito       & 3851.43 & 368 & 10.465842 & 27.75 & 8.69\\\\\n",
       "\t Canned Soft Drink   &  438.75 & 301 &  1.457641 &  5.00 & 1.25\\\\\n",
       "\t Chips               &  494.34 & 211 &  2.342844 &  6.45 & 1.99\\\\\n",
       "\\end{tabular}\n"
      ],
      "text/markdown": [
       "\n",
       "A tibble: 6 × 6\n",
       "\n",
       "| item_name &lt;chr&gt; | revenue &lt;dbl&gt; | itemsold &lt;int&gt; | meanprice &lt;dbl&gt; | maxprice &lt;dbl&gt; | minprice &lt;dbl&gt; |\n",
       "|---|---|---|---|---|---|\n",
       "| Chicken Bowl        | 7342.73 | 726 | 10.113953 | 32.94 | 8.19 |\n",
       "| Chicken Burrito     | 5575.82 | 553 | 10.082857 | 35.00 | 8.19 |\n",
       "| Chips and Guacamole | 2201.04 | 479 |  4.595073 | 17.80 | 3.89 |\n",
       "| Steak Burrito       | 3851.43 | 368 | 10.465842 | 27.75 | 8.69 |\n",
       "| Canned Soft Drink   |  438.75 | 301 |  1.457641 |  5.00 | 1.25 |\n",
       "| Chips               |  494.34 | 211 |  2.342844 |  6.45 | 1.99 |\n",
       "\n"
      ],
      "text/plain": [
       "  item_name           revenue itemsold meanprice maxprice minprice\n",
       "1 Chicken Bowl        7342.73 726      10.113953 32.94    8.19    \n",
       "2 Chicken Burrito     5575.82 553      10.082857 35.00    8.19    \n",
       "3 Chips and Guacamole 2201.04 479       4.595073 17.80    3.89    \n",
       "4 Steak Burrito       3851.43 368      10.465842 27.75    8.69    \n",
       "5 Canned Soft Drink    438.75 301       1.457641  5.00    1.25    \n",
       "6 Chips                494.34 211       2.342844  6.45    1.99    "
      ]
     },
     "metadata": {},
     "output_type": "display_data"
    }
   ],
   "source": [
    "pricetable <- df %>% group_by(item_name) %>% \n",
    "    summarise(revenue = sum(item_price), \n",
    "              itemsold = n(),\n",
    "              meanprice = mean(item_price),\n",
    "              maxprice = max(item_price),                       \n",
    "              minprice = min(item_price)) %>% \n",
    "    arrange(desc(itemsold))\n",
    "head(pricetable)"
   ]
  },
  {
   "cell_type": "markdown",
   "metadata": {},
   "source": [
    "Wait! how can a chicken bowl be 32.94? Double chicken chicken bowl is only 10 bucks! What happened?"
   ]
  },
  {
   "cell_type": "markdown",
   "metadata": {},
   "source": [
    "### Take a look at the row in df where chicken bowl costed 32.94. Is my code for Q3 correct? If not, what's the correct one. Also check if your code for Q1 is correct."
   ]
  },
  {
   "cell_type": "code",
   "execution_count": 6,
   "metadata": {},
   "outputs": [
    {
     "data": {
      "text/html": [
       "<table>\n",
       "<thead><tr><th scope=col>order_id</th><th scope=col>quantity</th><th scope=col>item_name</th><th scope=col>choice_description</th><th scope=col>item_price</th></tr></thead>\n",
       "<tbody>\n",
       "\t<tr><td>178                                                                                                                                                                    </td><td>3                                                                                                                                                                      </td><td>Chicken Bowl                                                                                                                                                           </td><td>[[Fresh Tomato Salsa (Mild), Tomatillo-Green Chili Salsa (Medium), Roasted Chili Corn Salsa (Medium)], [Black Beans, Rice, Fajita Veggies, Cheese, Guacamole, Lettuce]]</td><td>32.94                                                                                                                                                                  </td></tr>\n",
       "</tbody>\n",
       "</table>\n"
      ],
      "text/latex": [
       "\\begin{tabular}{r|lllll}\n",
       " order\\_id & quantity & item\\_name & choice\\_description & item\\_price\\\\\n",
       "\\hline\n",
       "\t 178                                                                                                                                                                                 & 3                                                                                                                                                                                   & Chicken Bowl                                                                                                                                                                        & {[}{[}Fresh Tomato Salsa (Mild), Tomatillo-Green Chili Salsa (Medium), Roasted Chili Corn Salsa (Medium){]}, {[}Black Beans, Rice, Fajita Veggies, Cheese, Guacamole, Lettuce{]}{]} & 32.94                                                                                                                                                                              \\\\\n",
       "\\end{tabular}\n"
      ],
      "text/markdown": [
       "\n",
       "| order_id | quantity | item_name | choice_description | item_price |\n",
       "|---|---|---|---|---|\n",
       "| 178                                                                                                                                                                     | 3                                                                                                                                                                       | Chicken Bowl                                                                                                                                                            | [[Fresh Tomato Salsa (Mild), Tomatillo-Green Chili Salsa (Medium), Roasted Chili Corn Salsa (Medium)], [Black Beans, Rice, Fajita Veggies, Cheese, Guacamole, Lettuce]] | 32.94                                                                                                                                                                   |\n",
       "\n"
      ],
      "text/plain": [
       "  order_id quantity item_name   \n",
       "1 178      3        Chicken Bowl\n",
       "  choice_description                                                                                                                                                     \n",
       "1 [[Fresh Tomato Salsa (Mild), Tomatillo-Green Chili Salsa (Medium), Roasted Chili Corn Salsa (Medium)], [Black Beans, Rice, Fajita Veggies, Cheese, Guacamole, Lettuce]]\n",
       "  item_price\n",
       "1 32.94     "
      ]
     },
     "metadata": {},
     "output_type": "display_data"
    }
   ],
   "source": [
    "# select the row where chicken bowl costs 32.94\n",
    "\n",
    "df %>% filter(item_name == \"Chicken Bowl\", item_price == 32.94)"
   ]
  },
  {
   "cell_type": "code",
   "execution_count": 7,
   "metadata": {},
   "outputs": [
    {
     "data": {
      "text/html": [
       "<table>\n",
       "<thead><tr><th scope=col>item_name</th><th scope=col>revenue</th><th scope=col>itemsold</th><th scope=col>meanprice</th><th scope=col>maxprice</th><th scope=col>minprice</th></tr></thead>\n",
       "<tbody>\n",
       "\t<tr><td>Chicken Bowl       </td><td>7342.73            </td><td>761                </td><td>9.657727           </td><td>11.25              </td><td>8.19               </td></tr>\n",
       "\t<tr><td>Chicken Burrito    </td><td>5575.82            </td><td>591                </td><td>9.475949           </td><td>11.25              </td><td>8.19               </td></tr>\n",
       "\t<tr><td>Chips and Guacamole</td><td>2201.04            </td><td>506                </td><td>4.345616           </td><td> 4.45              </td><td>3.89               </td></tr>\n",
       "\t<tr><td>Steak Burrito      </td><td>3851.43            </td><td>386                </td><td>9.993424           </td><td>11.75              </td><td>8.69               </td></tr>\n",
       "\t<tr><td>Canned Soft Drink  </td><td> 438.75            </td><td>351                </td><td>1.250000           </td><td> 1.25              </td><td>1.25               </td></tr>\n",
       "\t<tr><td>Chips              </td><td> 494.34            </td><td>230                </td><td>2.149242           </td><td> 2.15              </td><td>1.99               </td></tr>\n",
       "</tbody>\n",
       "</table>\n"
      ],
      "text/latex": [
       "\\begin{tabular}{r|llllll}\n",
       " item\\_name & revenue & itemsold & meanprice & maxprice & minprice\\\\\n",
       "\\hline\n",
       "\t Chicken Bowl        & 7342.73             & 761                 & 9.657727            & 11.25               & 8.19               \\\\\n",
       "\t Chicken Burrito     & 5575.82             & 591                 & 9.475949            & 11.25               & 8.19               \\\\\n",
       "\t Chips and Guacamole & 2201.04             & 506                 & 4.345616            &  4.45               & 3.89               \\\\\n",
       "\t Steak Burrito       & 3851.43             & 386                 & 9.993424            & 11.75               & 8.69               \\\\\n",
       "\t Canned Soft Drink   &  438.75             & 351                 & 1.250000            &  1.25               & 1.25               \\\\\n",
       "\t Chips               &  494.34             & 230                 & 2.149242            &  2.15               & 1.99               \\\\\n",
       "\\end{tabular}\n"
      ],
      "text/markdown": [
       "\n",
       "| item_name | revenue | itemsold | meanprice | maxprice | minprice |\n",
       "|---|---|---|---|---|---|\n",
       "| Chicken Bowl        | 7342.73             | 761                 | 9.657727            | 11.25               | 8.19                |\n",
       "| Chicken Burrito     | 5575.82             | 591                 | 9.475949            | 11.25               | 8.19                |\n",
       "| Chips and Guacamole | 2201.04             | 506                 | 4.345616            |  4.45               | 3.89                |\n",
       "| Steak Burrito       | 3851.43             | 386                 | 9.993424            | 11.75               | 8.69                |\n",
       "| Canned Soft Drink   |  438.75             | 351                 | 1.250000            |  1.25               | 1.25                |\n",
       "| Chips               |  494.34             | 230                 | 2.149242            |  2.15               | 1.99                |\n",
       "\n"
      ],
      "text/plain": [
       "  item_name           revenue itemsold meanprice maxprice minprice\n",
       "1 Chicken Bowl        7342.73 761      9.657727  11.25    8.19    \n",
       "2 Chicken Burrito     5575.82 591      9.475949  11.25    8.19    \n",
       "3 Chips and Guacamole 2201.04 506      4.345616   4.45    3.89    \n",
       "4 Steak Burrito       3851.43 386      9.993424  11.75    8.69    \n",
       "5 Canned Soft Drink    438.75 351      1.250000   1.25    1.25    \n",
       "6 Chips                494.34 230      2.149242   2.15    1.99    "
      ]
     },
     "metadata": {},
     "output_type": "display_data"
    }
   ],
   "source": [
    "# correct the code in Q3.\n",
    "\n",
    "pricetable <- df %>% group_by(item_name) %>% \n",
    "    summarise(revenue = sum(item_price), \n",
    "              itemsold = sum(quantity),\n",
    "              meanprice = mean(item_price/quantity),\n",
    "              maxprice = max(item_price/quantity),                       \n",
    "              minprice = min(item_price/quantity)) %>% \n",
    "    arrange(desc(itemsold))\n",
    "head(pricetable)"
   ]
  },
  {
   "cell_type": "markdown",
   "metadata": {},
   "source": [
    "### Q4: What's the total price for each order? Plot a histogram of how much each order spends?"
   ]
  },
  {
   "cell_type": "code",
   "execution_count": 19,
   "metadata": {},
   "outputs": [
    {
     "data": {
      "text/html": [
       "<table>\n",
       "<caption>A tibble: 1834 × 2</caption>\n",
       "<thead>\n",
       "\t<tr><th scope=col>order_id</th><th scope=col>totalprice</th></tr>\n",
       "\t<tr><th scope=col>&lt;int&gt;</th><th scope=col>&lt;dbl&gt;</th></tr>\n",
       "</thead>\n",
       "<tbody>\n",
       "\t<tr><td> 1</td><td>11.56</td></tr>\n",
       "\t<tr><td> 2</td><td>16.98</td></tr>\n",
       "\t<tr><td> 3</td><td>12.67</td></tr>\n",
       "\t<tr><td> 4</td><td>21.00</td></tr>\n",
       "\t<tr><td> 5</td><td>13.70</td></tr>\n",
       "\t<tr><td> 6</td><td>17.50</td></tr>\n",
       "\t<tr><td> 7</td><td>15.70</td></tr>\n",
       "\t<tr><td> 8</td><td>10.88</td></tr>\n",
       "\t<tr><td> 9</td><td>10.67</td></tr>\n",
       "\t<tr><td>10</td><td>13.20</td></tr>\n",
       "\t<tr><td>11</td><td>12.38</td></tr>\n",
       "\t<tr><td>12</td><td>14.37</td></tr>\n",
       "\t<tr><td>13</td><td>10.88</td></tr>\n",
       "\t<tr><td>14</td><td>10.08</td></tr>\n",
       "\t<tr><td>15</td><td>10.88</td></tr>\n",
       "\t<tr><td>16</td><td>10.68</td></tr>\n",
       "\t<tr><td>17</td><td>10.08</td></tr>\n",
       "\t<tr><td>18</td><td>24.90</td></tr>\n",
       "\t<tr><td>19</td><td>13.90</td></tr>\n",
       "\t<tr><td>20</td><td>36.20</td></tr>\n",
       "\t<tr><td>21</td><td>23.36</td></tr>\n",
       "\t<tr><td>22</td><td>12.98</td></tr>\n",
       "\t<tr><td>23</td><td>11.17</td></tr>\n",
       "\t<tr><td>24</td><td>12.07</td></tr>\n",
       "\t<tr><td>25</td><td>11.38</td></tr>\n",
       "\t<tr><td>26</td><td>20.50</td></tr>\n",
       "\t<tr><td>27</td><td>13.90</td></tr>\n",
       "\t<tr><td>28</td><td>33.70</td></tr>\n",
       "\t<tr><td>29</td><td>17.98</td></tr>\n",
       "\t<tr><td>30</td><td>23.36</td></tr>\n",
       "\t<tr><td>⋮</td><td>⋮</td></tr>\n",
       "\t<tr><td>1805</td><td>20.00</td></tr>\n",
       "\t<tr><td>1806</td><td>13.00</td></tr>\n",
       "\t<tr><td>1807</td><td>18.64</td></tr>\n",
       "\t<tr><td>1808</td><td>13.70</td></tr>\n",
       "\t<tr><td>1809</td><td>14.45</td></tr>\n",
       "\t<tr><td>1810</td><td>23.00</td></tr>\n",
       "\t<tr><td>1811</td><td>29.25</td></tr>\n",
       "\t<tr><td>1812</td><td>22.50</td></tr>\n",
       "\t<tr><td>1813</td><td>17.50</td></tr>\n",
       "\t<tr><td>1814</td><td>13.70</td></tr>\n",
       "\t<tr><td>1815</td><td>12.50</td></tr>\n",
       "\t<tr><td>1816</td><td>13.20</td></tr>\n",
       "\t<tr><td>1817</td><td>13.00</td></tr>\n",
       "\t<tr><td>1818</td><td>18.14</td></tr>\n",
       "\t<tr><td>1819</td><td>13.20</td></tr>\n",
       "\t<tr><td>1820</td><td>12.50</td></tr>\n",
       "\t<tr><td>1821</td><td>13.70</td></tr>\n",
       "\t<tr><td>1822</td><td>23.00</td></tr>\n",
       "\t<tr><td>1823</td><td>12.15</td></tr>\n",
       "\t<tr><td>1824</td><td>26.95</td></tr>\n",
       "\t<tr><td>1825</td><td>66.50</td></tr>\n",
       "\t<tr><td>1826</td><td>15.95</td></tr>\n",
       "\t<tr><td>1827</td><td>32.95</td></tr>\n",
       "\t<tr><td>1828</td><td>14.45</td></tr>\n",
       "\t<tr><td>1829</td><td>24.25</td></tr>\n",
       "\t<tr><td>1830</td><td>23.00</td></tr>\n",
       "\t<tr><td>1831</td><td>12.90</td></tr>\n",
       "\t<tr><td>1832</td><td>13.20</td></tr>\n",
       "\t<tr><td>1833</td><td>23.50</td></tr>\n",
       "\t<tr><td>1834</td><td>28.75</td></tr>\n",
       "</tbody>\n",
       "</table>\n"
      ],
      "text/latex": [
       "A tibble: 1834 × 2\n",
       "\\begin{tabular}{r|ll}\n",
       " order\\_id & totalprice\\\\\n",
       " <int> & <dbl>\\\\\n",
       "\\hline\n",
       "\t  1 & 11.56\\\\\n",
       "\t  2 & 16.98\\\\\n",
       "\t  3 & 12.67\\\\\n",
       "\t  4 & 21.00\\\\\n",
       "\t  5 & 13.70\\\\\n",
       "\t  6 & 17.50\\\\\n",
       "\t  7 & 15.70\\\\\n",
       "\t  8 & 10.88\\\\\n",
       "\t  9 & 10.67\\\\\n",
       "\t 10 & 13.20\\\\\n",
       "\t 11 & 12.38\\\\\n",
       "\t 12 & 14.37\\\\\n",
       "\t 13 & 10.88\\\\\n",
       "\t 14 & 10.08\\\\\n",
       "\t 15 & 10.88\\\\\n",
       "\t 16 & 10.68\\\\\n",
       "\t 17 & 10.08\\\\\n",
       "\t 18 & 24.90\\\\\n",
       "\t 19 & 13.90\\\\\n",
       "\t 20 & 36.20\\\\\n",
       "\t 21 & 23.36\\\\\n",
       "\t 22 & 12.98\\\\\n",
       "\t 23 & 11.17\\\\\n",
       "\t 24 & 12.07\\\\\n",
       "\t 25 & 11.38\\\\\n",
       "\t 26 & 20.50\\\\\n",
       "\t 27 & 13.90\\\\\n",
       "\t 28 & 33.70\\\\\n",
       "\t 29 & 17.98\\\\\n",
       "\t 30 & 23.36\\\\\n",
       "\t ⋮ & ⋮\\\\\n",
       "\t 1805 & 20.00\\\\\n",
       "\t 1806 & 13.00\\\\\n",
       "\t 1807 & 18.64\\\\\n",
       "\t 1808 & 13.70\\\\\n",
       "\t 1809 & 14.45\\\\\n",
       "\t 1810 & 23.00\\\\\n",
       "\t 1811 & 29.25\\\\\n",
       "\t 1812 & 22.50\\\\\n",
       "\t 1813 & 17.50\\\\\n",
       "\t 1814 & 13.70\\\\\n",
       "\t 1815 & 12.50\\\\\n",
       "\t 1816 & 13.20\\\\\n",
       "\t 1817 & 13.00\\\\\n",
       "\t 1818 & 18.14\\\\\n",
       "\t 1819 & 13.20\\\\\n",
       "\t 1820 & 12.50\\\\\n",
       "\t 1821 & 13.70\\\\\n",
       "\t 1822 & 23.00\\\\\n",
       "\t 1823 & 12.15\\\\\n",
       "\t 1824 & 26.95\\\\\n",
       "\t 1825 & 66.50\\\\\n",
       "\t 1826 & 15.95\\\\\n",
       "\t 1827 & 32.95\\\\\n",
       "\t 1828 & 14.45\\\\\n",
       "\t 1829 & 24.25\\\\\n",
       "\t 1830 & 23.00\\\\\n",
       "\t 1831 & 12.90\\\\\n",
       "\t 1832 & 13.20\\\\\n",
       "\t 1833 & 23.50\\\\\n",
       "\t 1834 & 28.75\\\\\n",
       "\\end{tabular}\n"
      ],
      "text/markdown": [
       "\n",
       "A tibble: 1834 × 2\n",
       "\n",
       "| order_id &lt;int&gt; | totalprice &lt;dbl&gt; |\n",
       "|---|---|\n",
       "|  1 | 11.56 |\n",
       "|  2 | 16.98 |\n",
       "|  3 | 12.67 |\n",
       "|  4 | 21.00 |\n",
       "|  5 | 13.70 |\n",
       "|  6 | 17.50 |\n",
       "|  7 | 15.70 |\n",
       "|  8 | 10.88 |\n",
       "|  9 | 10.67 |\n",
       "| 10 | 13.20 |\n",
       "| 11 | 12.38 |\n",
       "| 12 | 14.37 |\n",
       "| 13 | 10.88 |\n",
       "| 14 | 10.08 |\n",
       "| 15 | 10.88 |\n",
       "| 16 | 10.68 |\n",
       "| 17 | 10.08 |\n",
       "| 18 | 24.90 |\n",
       "| 19 | 13.90 |\n",
       "| 20 | 36.20 |\n",
       "| 21 | 23.36 |\n",
       "| 22 | 12.98 |\n",
       "| 23 | 11.17 |\n",
       "| 24 | 12.07 |\n",
       "| 25 | 11.38 |\n",
       "| 26 | 20.50 |\n",
       "| 27 | 13.90 |\n",
       "| 28 | 33.70 |\n",
       "| 29 | 17.98 |\n",
       "| 30 | 23.36 |\n",
       "| ⋮ | ⋮ |\n",
       "| 1805 | 20.00 |\n",
       "| 1806 | 13.00 |\n",
       "| 1807 | 18.64 |\n",
       "| 1808 | 13.70 |\n",
       "| 1809 | 14.45 |\n",
       "| 1810 | 23.00 |\n",
       "| 1811 | 29.25 |\n",
       "| 1812 | 22.50 |\n",
       "| 1813 | 17.50 |\n",
       "| 1814 | 13.70 |\n",
       "| 1815 | 12.50 |\n",
       "| 1816 | 13.20 |\n",
       "| 1817 | 13.00 |\n",
       "| 1818 | 18.14 |\n",
       "| 1819 | 13.20 |\n",
       "| 1820 | 12.50 |\n",
       "| 1821 | 13.70 |\n",
       "| 1822 | 23.00 |\n",
       "| 1823 | 12.15 |\n",
       "| 1824 | 26.95 |\n",
       "| 1825 | 66.50 |\n",
       "| 1826 | 15.95 |\n",
       "| 1827 | 32.95 |\n",
       "| 1828 | 14.45 |\n",
       "| 1829 | 24.25 |\n",
       "| 1830 | 23.00 |\n",
       "| 1831 | 12.90 |\n",
       "| 1832 | 13.20 |\n",
       "| 1833 | 23.50 |\n",
       "| 1834 | 28.75 |\n",
       "\n"
      ],
      "text/plain": [
       "     order_id totalprice\n",
       "1     1       11.56     \n",
       "2     2       16.98     \n",
       "3     3       12.67     \n",
       "4     4       21.00     \n",
       "5     5       13.70     \n",
       "6     6       17.50     \n",
       "7     7       15.70     \n",
       "8     8       10.88     \n",
       "9     9       10.67     \n",
       "10   10       13.20     \n",
       "11   11       12.38     \n",
       "12   12       14.37     \n",
       "13   13       10.88     \n",
       "14   14       10.08     \n",
       "15   15       10.88     \n",
       "16   16       10.68     \n",
       "17   17       10.08     \n",
       "18   18       24.90     \n",
       "19   19       13.90     \n",
       "20   20       36.20     \n",
       "21   21       23.36     \n",
       "22   22       12.98     \n",
       "23   23       11.17     \n",
       "24   24       12.07     \n",
       "25   25       11.38     \n",
       "26   26       20.50     \n",
       "27   27       13.90     \n",
       "28   28       33.70     \n",
       "29   29       17.98     \n",
       "30   30       23.36     \n",
       "⋮    ⋮        ⋮         \n",
       "1805 1805     20.00     \n",
       "1806 1806     13.00     \n",
       "1807 1807     18.64     \n",
       "1808 1808     13.70     \n",
       "1809 1809     14.45     \n",
       "1810 1810     23.00     \n",
       "1811 1811     29.25     \n",
       "1812 1812     22.50     \n",
       "1813 1813     17.50     \n",
       "1814 1814     13.70     \n",
       "1815 1815     12.50     \n",
       "1816 1816     13.20     \n",
       "1817 1817     13.00     \n",
       "1818 1818     18.14     \n",
       "1819 1819     13.20     \n",
       "1820 1820     12.50     \n",
       "1821 1821     13.70     \n",
       "1822 1822     23.00     \n",
       "1823 1823     12.15     \n",
       "1824 1824     26.95     \n",
       "1825 1825     66.50     \n",
       "1826 1826     15.95     \n",
       "1827 1827     32.95     \n",
       "1828 1828     14.45     \n",
       "1829 1829     24.25     \n",
       "1830 1830     23.00     \n",
       "1831 1831     12.90     \n",
       "1832 1832     13.20     \n",
       "1833 1833     23.50     \n",
       "1834 1834     28.75     "
      ]
     },
     "metadata": {},
     "output_type": "display_data"
    }
   ],
   "source": [
    "# table for the total price of each order \n",
    "total_price <- df %>%\n",
    "                group_by(order_id) %>%\n",
    "                    summarise(totalprice = sum(item_price))\n",
    "total_price"
   ]
  },
  {
   "cell_type": "code",
   "execution_count": 9,
   "metadata": {},
   "outputs": [
    {
     "name": "stderr",
     "output_type": "stream",
     "text": [
      "`stat_bin()` using `bins = 30`. Pick better value with `binwidth`.\n"
     ]
    },
    {
     "data": {
      "image/png": "[encoded data removed]",
      "text/plain": [
       "plot without title"
      ]
     },
     "metadata": {},
     "output_type": "display_data"
    }
   ],
   "source": [
    "# Plot that\n",
    "\n",
    "ggplot(total_price, aes(x=totalprice)) + \n",
    "    geom_histogram() "
   ]
  },
  {
   "cell_type": "markdown",
   "metadata": {},
   "source": [
    "Can you locate your order habit in the plot above? I think the plot will be more informative if we look at only order below 20 bucks and select a smaller binwidth."
   ]
  },
  {
   "cell_type": "markdown",
   "metadata": {},
   "source": [
    "### Q5: Change the plot in Q4 such that we look only at orders below 20 and use a smaller binwidth."
   ]
  },
  {
   "cell_type": "code",
   "execution_count": 10,
   "metadata": {},
   "outputs": [
    {
     "name": "stderr",
     "output_type": "stream",
     "text": [
      "Warning message:\n",
      "“Removed 566 rows containing non-finite values (stat_bin).”Warning message:\n",
      "“Removed 2 rows containing missing values (geom_bar).”"
     ]
    },
    {
     "data": {
      "image/png": "[encoded data removed]",
      "text/plain": [
       "plot without title"
      ]
     },
     "metadata": {},
     "output_type": "display_data"
    }
   ],
   "source": [
    "ggplot(total_price, aes(x=totalprice)) + \n",
    "    geom_histogram(binwidth = 0.5) + xlim(min(total_price$totalprice), 20)"
   ]
  },
  {
   "cell_type": "markdown",
   "metadata": {},
   "source": [
    "How does your spending habits at Chipotle compare to those who are in the dataset?"
   ]
  },
  {
   "cell_type": "markdown",
   "metadata": {},
   "source": [
    "### Q6: Are bowls more popular or burritos more popular? Create a bar plot where the y axis is the amount sold, and the x axis contains one bar for bowl, one bar for burrito. \n",
    "Hint: You can use `ifelse` function"
   ]
  },
  {
   "cell_type": "code",
   "execution_count": 23,
   "metadata": {},
   "outputs": [
    {
     "data": {
      "text/html": [
       "<table>\n",
       "<caption>A tibble: 2 × 2</caption>\n",
       "<thead>\n",
       "\t<tr><th scope=col>burritoORbowl</th><th scope=col>total</th></tr>\n",
       "\t<tr><th scope=col>&lt;chr&gt;</th><th scope=col>&lt;int&gt;</th></tr>\n",
       "</thead>\n",
       "<tbody>\n",
       "\t<tr><td>Bowl   </td><td>1398</td></tr>\n",
       "\t<tr><td>Burrito</td><td>1231</td></tr>\n",
       "</tbody>\n",
       "</table>\n"
      ],
      "text/latex": [
       "A tibble: 2 × 2\n",
       "\\begin{tabular}{r|ll}\n",
       " burritoORbowl & total\\\\\n",
       " <chr> & <int>\\\\\n",
       "\\hline\n",
       "\t Bowl    & 1398\\\\\n",
       "\t Burrito & 1231\\\\\n",
       "\\end{tabular}\n"
      ],
      "text/markdown": [
       "\n",
       "A tibble: 2 × 2\n",
       "\n",
       "| burritoORbowl &lt;chr&gt; | total &lt;int&gt; |\n",
       "|---|---|\n",
       "| Bowl    | 1398 |\n",
       "| Burrito | 1231 |\n",
       "\n"
      ],
      "text/plain": [
       "  burritoORbowl total\n",
       "1 Bowl          1398 \n",
       "2 Burrito       1231 "
      ]
     },
     "metadata": {},
     "output_type": "display_data"
    }
   ],
   "source": [
    "bORb = df %>% mutate(burritoORbowl =\n",
    "                   ifelse(grepl(pattern = \"Bowl\", x = df$item_name), \"Bowl\",\n",
    "                          ifelse(grepl(pattern = \"Burrito\", x = df$item_name), \"Burrito\",\n",
    "                                 NA))) %>%\n",
    "    group_by(burritoORbowl) %>%\n",
    "    summarise(total = sum(quantity)) %>% \n",
    "    drop_na()\n",
    "\n",
    "bORb"
   ]
  },
  {
   "cell_type": "code",
   "execution_count": 12,
   "metadata": {},
   "outputs": [
    {
     "data": {
      "image/png": "[encoded data removed]",
      "text/plain": [
       "plot without title"
      ]
     },
     "metadata": {},
     "output_type": "display_data"
    }
   ],
   "source": [
    "ggplot(data = bORb, aes(burritoORbowl, total)) + \n",
    "    geom_col()"
   ]
  },
  {
   "cell_type": "markdown",
   "metadata": {},
   "source": [
    "### Q7: What percentage of orders contain at least one drink of any kind?"
   ]
  },
  {
   "cell_type": "code",
   "execution_count": 5,
   "metadata": {},
   "outputs": [
    {
     "data": {
      "text/html": [
       "<table>\n",
       "<caption>A data.frame: 1 × 1</caption>\n",
       "<thead>\n",
       "\t<tr><th scope=col>n()</th></tr>\n",
       "\t<tr><th scope=col>&lt;int&gt;</th></tr>\n",
       "</thead>\n",
       "<tbody>\n",
       "\t<tr><td>330</td></tr>\n",
       "</tbody>\n",
       "</table>\n"
      ],
      "text/latex": [
       "A data.frame: 1 × 1\n",
       "\\begin{tabular}{r|l}\n",
       " n()\\\\\n",
       " <int>\\\\\n",
       "\\hline\n",
       "\t 330\\\\\n",
       "\\end{tabular}\n"
      ],
      "text/markdown": [
       "\n",
       "A data.frame: 1 × 1\n",
       "\n",
       "| n() &lt;int&gt; |\n",
       "|---|\n",
       "| 330 |\n",
       "\n"
      ],
      "text/plain": [
       "  n()\n",
       "1 330"
      ]
     },
     "metadata": {},
     "output_type": "display_data"
    }
   ],
   "source": [
    "# df %>% \n",
    "# filter(str_detect(item_name, \"Drink\")) %>%\n",
    "# select(order_id) %>% distinct() %>% summarise(n())\n",
    "\n",
    "df %>% \n",
    "mutate(DrinkOrNot = grepl('Drink', item_name)) %>%\n",
    "filter(DrinkOrNot == TRUE) %>%\n",
    "select(order_id) %>% distinct() %>% summarise(n())"
   ]
  },
  {
   "cell_type": "code",
   "execution_count": 6,
   "metadata": {},
   "outputs": [
    {
     "data": {
      "text/html": [
       "1834"
      ],
      "text/latex": [
       "1834"
      ],
      "text/markdown": [
       "1834"
      ],
      "text/plain": [
       "[1] 1834"
      ]
     },
     "metadata": {},
     "output_type": "display_data"
    }
   ],
   "source": [
    "nrow(distinct(df, order_id))"
   ]
  },
  {
   "cell_type": "code",
   "execution_count": 7,
   "metadata": {},
   "outputs": [
    {
     "data": {
      "text/html": [
       "'17.9934569247546 %'"
      ],
      "text/latex": [
       "'17.9934569247546 \\%'"
      ],
      "text/markdown": [
       "'17.9934569247546 %'"
      ],
      "text/plain": [
       "[1] \"17.9934569247546 %\""
      ]
     },
     "metadata": {},
     "output_type": "display_data"
    }
   ],
   "source": [
    "paste(100*330/1834,\"%\")"
   ]
  },
  {
   "cell_type": "markdown",
   "metadata": {},
   "source": [
    "### Bonus Question: Suppose for any non drink item sold, 20% of the price is profit, for any drink sold, 85% is profit. According to our data, what percentage of total profit comes from drinks?"
   ]
  },
  {
   "cell_type": "code",
   "execution_count": 16,
   "metadata": {},
   "outputs": [],
   "source": [
    "a = df %>%\n",
    "        filter(str_detect(item_name, \"Drink\")) %>% summarise(sum(item_price))"
   ]
  },
  {
   "cell_type": "code",
   "execution_count": 17,
   "metadata": {},
   "outputs": [],
   "source": [
    "b = df %>%\n",
    "        filter(str_detect(item_name, \"Drink\", negate = TRUE)) %>% \n",
    "            summarise(sum(item_price))"
   ]
  },
  {
   "cell_type": "code",
   "execution_count": 18,
   "metadata": {},
   "outputs": [
    {
     "data": {
      "text/html": [
       "'9.11855722016163 %'"
      ],
      "text/latex": [
       "'9.11855722016163 \\%'"
      ],
      "text/markdown": [
       "'9.11855722016163 %'"
      ],
      "text/plain": [
       "[1] \"9.11855722016163 %\""
      ]
     },
     "metadata": {},
     "output_type": "display_data"
    }
   ],
   "source": [
    "paste(100*(a*0.85)/(b*0.2+a*0.85),\"%\")"
   ]
  },
  {
   "cell_type": "code",
   "execution_count": null,
   "metadata": {},
   "outputs": [],
   "source": []
  }
 ],
 "metadata": {
  "kernelspec": {
   "display_name": "R",
   "language": "R",
   "name": "ir"
  },
  "language_info": {
   "codemirror_mode": "r",
   "file_extension": ".r",
   "mimetype": "text/x-r-source",
   "name": "R",
   "pygments_lexer": "r",
   "version": "3.5.1"
  }
 },
 "nbformat": 4,
 "nbformat_minor": 2
}
