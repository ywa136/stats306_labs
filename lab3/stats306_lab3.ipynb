{
 "cells": [
  {
   "cell_type": "markdown",
   "metadata": {},
   "source": [
    "# Lab 3: EDA on Chipotle Orders"
   ]
  },
  {
   "cell_type": "markdown",
   "metadata": {},
   "source": [
    "Today, we look at what people order at Chipotle. Some example questions we are interested in are:\n",
    "- How much do people spend on average at Chipotle?\n",
    "- Do people prefer bowls or burritos?\n",
    "- What percentage of people order drinks?\n",
    "- ..."
   ]
  },
  {
   "cell_type": "code",
   "execution_count": 3,
   "metadata": {},
   "outputs": [],
   "source": [
    "# read in necessary packages and data\n",
    "library(tidyverse)\n",
    "# change the path\n",
    "df <- read.csv(\"chipotle.csv\", stringsAsFactors = F)\n",
    "df$X <- NULL"
   ]
  },
  {
   "cell_type": "code",
   "execution_count": 4,
   "metadata": {},
   "outputs": [
    {
     "data": {
      "text/plain": [
       "    order_id         quantity       item_name         choice_description\n",
       " Min.   :   1.0   Min.   : 1.000   Length:4622        Length:4622       \n",
       " 1st Qu.: 477.2   1st Qu.: 1.000   Class :character   Class :character  \n",
       " Median : 926.0   Median : 1.000   Mode  :character   Mode  :character  \n",
       " Mean   : 927.3   Mean   : 1.076                                        \n",
       " 3rd Qu.:1393.0   3rd Qu.: 1.000                                        \n",
       " Max.   :1834.0   Max.   :15.000                                        \n",
       "  item_price       \n",
       " Length:4622       \n",
       " Class :character  \n",
       " Mode  :character  \n",
       "                   \n",
       "                   \n",
       "                   "
      ]
     },
     "metadata": {},
     "output_type": "display_data"
    },
    {
     "data": {
      "text/html": [
       "<table>\n",
       "<caption>A data.frame: 6 × 5</caption>\n",
       "<thead>\n",
       "\t<tr><th scope=col>order_id</th><th scope=col>quantity</th><th scope=col>item_name</th><th scope=col>choice_description</th><th scope=col>item_price</th></tr>\n",
       "\t<tr><th scope=col>&lt;int&gt;</th><th scope=col>&lt;int&gt;</th><th scope=col>&lt;chr&gt;</th><th scope=col>&lt;chr&gt;</th><th scope=col>&lt;chr&gt;</th></tr>\n",
       "</thead>\n",
       "<tbody>\n",
       "\t<tr><td>1</td><td>1</td><td>Chips and Fresh Tomato Salsa         </td><td>                                                                           </td><td>$2.39  </td></tr>\n",
       "\t<tr><td>1</td><td>1</td><td>Izze                                 </td><td>[Clementine]                                                               </td><td>$3.39  </td></tr>\n",
       "\t<tr><td>1</td><td>1</td><td>Nantucket Nectar                     </td><td>[Apple]                                                                    </td><td>$3.39  </td></tr>\n",
       "\t<tr><td>1</td><td>1</td><td>Chips and Tomatillo-Green Chili Salsa</td><td>                                                                           </td><td>$2.39  </td></tr>\n",
       "\t<tr><td>2</td><td>2</td><td>Chicken Bowl                         </td><td>[Tomatillo-Red Chili Salsa (Hot), [Black Beans, Rice, Cheese, Sour Cream]] </td><td>$16.98 </td></tr>\n",
       "\t<tr><td>3</td><td>1</td><td>Chicken Bowl                         </td><td>[Fresh Tomato Salsa (Mild), [Rice, Cheese, Sour Cream, Guacamole, Lettuce]]</td><td>$10.98 </td></tr>\n",
       "</tbody>\n",
       "</table>\n"
      ],
      "text/latex": [
       "A data.frame: 6 × 5\n",
       "\\begin{tabular}{r|lllll}\n",
       " order\\_id & quantity & item\\_name & choice\\_description & item\\_price\\\\\n",
       " <int> & <int> & <chr> & <chr> & <chr>\\\\\n",
       "\\hline\n",
       "\t 1 & 1 & Chips and Fresh Tomato Salsa          &                                                                             & \\$2.39  \\\\\n",
       "\t 1 & 1 & Izze                                  & {[}Clementine{]}                                                                & \\$3.39  \\\\\n",
       "\t 1 & 1 & Nantucket Nectar                      & {[}Apple{]}                                                                     & \\$3.39  \\\\\n",
       "\t 1 & 1 & Chips and Tomatillo-Green Chili Salsa &                                                                             & \\$2.39  \\\\\n",
       "\t 2 & 2 & Chicken Bowl                          & {[}Tomatillo-Red Chili Salsa (Hot), {[}Black Beans, Rice, Cheese, Sour Cream{]}{]}  & \\$16.98 \\\\\n",
       "\t 3 & 1 & Chicken Bowl                          & {[}Fresh Tomato Salsa (Mild), {[}Rice, Cheese, Sour Cream, Guacamole, Lettuce{]}{]} & \\$10.98 \\\\\n",
       "\\end{tabular}\n"
      ],
      "text/markdown": [
       "\n",
       "A data.frame: 6 × 5\n",
       "\n",
       "| order_id &lt;int&gt; | quantity &lt;int&gt; | item_name &lt;chr&gt; | choice_description &lt;chr&gt; | item_price &lt;chr&gt; |\n",
       "|---|---|---|---|---|\n",
       "| 1 | 1 | Chips and Fresh Tomato Salsa          | <!----> | $2.39   |\n",
       "| 1 | 1 | Izze                                  | [Clementine]                                                                | $3.39   |\n",
       "| 1 | 1 | Nantucket Nectar                      | [Apple]                                                                     | $3.39   |\n",
       "| 1 | 1 | Chips and Tomatillo-Green Chili Salsa | <!----> | $2.39   |\n",
       "| 2 | 2 | Chicken Bowl                          | [Tomatillo-Red Chili Salsa (Hot), [Black Beans, Rice, Cheese, Sour Cream]]  | $16.98  |\n",
       "| 3 | 1 | Chicken Bowl                          | [Fresh Tomato Salsa (Mild), [Rice, Cheese, Sour Cream, Guacamole, Lettuce]] | $10.98  |\n",
       "\n"
      ],
      "text/plain": [
       "  order_id quantity item_name                            \n",
       "1 1        1        Chips and Fresh Tomato Salsa         \n",
       "2 1        1        Izze                                 \n",
       "3 1        1        Nantucket Nectar                     \n",
       "4 1        1        Chips and Tomatillo-Green Chili Salsa\n",
       "5 2        2        Chicken Bowl                         \n",
       "6 3        1        Chicken Bowl                         \n",
       "  choice_description                                                         \n",
       "1                                                                            \n",
       "2 [Clementine]                                                               \n",
       "3 [Apple]                                                                    \n",
       "4                                                                            \n",
       "5 [Tomatillo-Red Chili Salsa (Hot), [Black Beans, Rice, Cheese, Sour Cream]] \n",
       "6 [Fresh Tomato Salsa (Mild), [Rice, Cheese, Sour Cream, Guacamole, Lettuce]]\n",
       "  item_price\n",
       "1 $2.39     \n",
       "2 $3.39     \n",
       "3 $3.39     \n",
       "4 $2.39     \n",
       "5 $16.98    \n",
       "6 $10.98    "
      ]
     },
     "metadata": {},
     "output_type": "display_data"
    }
   ],
   "source": [
    "# take a look at data\n",
    "summary(df)\n",
    "head(df)"
   ]
  },
  {
   "cell_type": "markdown",
   "metadata": {},
   "source": [
    "### Q1: what are the top 5 most popular items? (let's assume item_name are well-maintained, i.e., chicken bowl won't be listed as both Chicken Bowl and chicken bowl)"
   ]
  },
  {
   "cell_type": "code",
   "execution_count": null,
   "metadata": {},
   "outputs": [],
   "source": []
  },
  {
   "cell_type": "markdown",
   "metadata": {},
   "source": [
    "### Q2: item_price is strings right now. Can we remove the dollar sign and convert it to numerical?"
   ]
  },
  {
   "cell_type": "code",
   "execution_count": null,
   "metadata": {},
   "outputs": [],
   "source": []
  },
  {
   "cell_type": "markdown",
   "metadata": {},
   "source": [
    "### Q3: Construct a table where for each item, we have amount sold, total revenue, max price sold, min price sold, mean price sold; arrange in decreasing order of amount sold.\n",
    "\n",
    "I have done this for you, and my solution is:"
   ]
  },
  {
   "cell_type": "code",
   "execution_count": 40,
   "metadata": {},
   "outputs": [
    {
     "data": {
      "text/html": [
       "<table>\n",
       "<caption>A tibble: 6 × 6</caption>\n",
       "<thead>\n",
       "\t<tr><th scope=col>item_name</th><th scope=col>revenue</th><th scope=col>itemsold</th><th scope=col>meanprice</th><th scope=col>maxprice</th><th scope=col>minprice</th></tr>\n",
       "\t<tr><th scope=col>&lt;chr&gt;</th><th scope=col>&lt;dbl&gt;</th><th scope=col>&lt;int&gt;</th><th scope=col>&lt;dbl&gt;</th><th scope=col>&lt;dbl&gt;</th><th scope=col>&lt;dbl&gt;</th></tr>\n",
       "</thead>\n",
       "<tbody>\n",
       "\t<tr><td>Chicken Bowl       </td><td>7342.73</td><td>726</td><td>10.113953</td><td>32.94</td><td>8.19</td></tr>\n",
       "\t<tr><td>Chicken Burrito    </td><td>5575.82</td><td>553</td><td>10.082857</td><td>35.00</td><td>8.19</td></tr>\n",
       "\t<tr><td>Chips and Guacamole</td><td>2201.04</td><td>479</td><td> 4.595073</td><td>17.80</td><td>3.89</td></tr>\n",
       "\t<tr><td>Steak Burrito      </td><td>3851.43</td><td>368</td><td>10.465842</td><td>27.75</td><td>8.69</td></tr>\n",
       "\t<tr><td>Canned Soft Drink  </td><td> 438.75</td><td>301</td><td> 1.457641</td><td> 5.00</td><td>1.25</td></tr>\n",
       "\t<tr><td>Chips              </td><td> 494.34</td><td>211</td><td> 2.342844</td><td> 6.45</td><td>1.99</td></tr>\n",
       "</tbody>\n",
       "</table>\n"
      ],
      "text/latex": [
       "A tibble: 6 × 6\n",
       "\\begin{tabular}{r|llllll}\n",
       " item\\_name & revenue & itemsold & meanprice & maxprice & minprice\\\\\n",
       " <chr> & <dbl> & <int> & <dbl> & <dbl> & <dbl>\\\\\n",
       "\\hline\n",
       "\t Chicken Bowl        & 7342.73 & 726 & 10.113953 & 32.94 & 8.19\\\\\n",
       "\t Chicken Burrito     & 5575.82 & 553 & 10.082857 & 35.00 & 8.19\\\\\n",
       "\t Chips and Guacamole & 2201.04 & 479 &  4.595073 & 17.80 & 3.89\\\\\n",
       "\t Steak Burrito       & 3851.43 & 368 & 10.465842 & 27.75 & 8.69\\\\\n",
       "\t Canned Soft Drink   &  438.75 & 301 &  1.457641 &  5.00 & 1.25\\\\\n",
       "\t Chips               &  494.34 & 211 &  2.342844 &  6.45 & 1.99\\\\\n",
       "\\end{tabular}\n"
      ],
      "text/markdown": [
       "\n",
       "A tibble: 6 × 6\n",
       "\n",
       "| item_name &lt;chr&gt; | revenue &lt;dbl&gt; | itemsold &lt;int&gt; | meanprice &lt;dbl&gt; | maxprice &lt;dbl&gt; | minprice &lt;dbl&gt; |\n",
       "|---|---|---|---|---|---|\n",
       "| Chicken Bowl        | 7342.73 | 726 | 10.113953 | 32.94 | 8.19 |\n",
       "| Chicken Burrito     | 5575.82 | 553 | 10.082857 | 35.00 | 8.19 |\n",
       "| Chips and Guacamole | 2201.04 | 479 |  4.595073 | 17.80 | 3.89 |\n",
       "| Steak Burrito       | 3851.43 | 368 | 10.465842 | 27.75 | 8.69 |\n",
       "| Canned Soft Drink   |  438.75 | 301 |  1.457641 |  5.00 | 1.25 |\n",
       "| Chips               |  494.34 | 211 |  2.342844 |  6.45 | 1.99 |\n",
       "\n"
      ],
      "text/plain": [
       "  item_name           revenue itemsold meanprice maxprice minprice\n",
       "1 Chicken Bowl        7342.73 726      10.113953 32.94    8.19    \n",
       "2 Chicken Burrito     5575.82 553      10.082857 35.00    8.19    \n",
       "3 Chips and Guacamole 2201.04 479       4.595073 17.80    3.89    \n",
       "4 Steak Burrito       3851.43 368      10.465842 27.75    8.69    \n",
       "5 Canned Soft Drink    438.75 301       1.457641  5.00    1.25    \n",
       "6 Chips                494.34 211       2.342844  6.45    1.99    "
      ]
     },
     "metadata": {},
     "output_type": "display_data"
    }
   ],
   "source": [
    "pricetable <- df %>% group_by(item_name) %>% \n",
    "    summarise(revenue = sum(item_price), \n",
    "              itemsold = n(),\n",
    "              meanprice = mean(item_price),\n",
    "              maxprice = max(item_price),                       \n",
    "              minprice = min(item_price)) %>% \n",
    "    arrange(desc(itemsold))\n",
    "head(pricetable)"
   ]
  },
  {
   "cell_type": "markdown",
   "metadata": {},
   "source": [
    "Wait! how can a chicken bowl be 32.94? Double chicken chicken bowl is only 10 bucks! What happened?"
   ]
  },
  {
   "cell_type": "markdown",
   "metadata": {},
   "source": [
    "### Take a look at the row in df where chicken bowl costed 32.94. Is my code for Q3 correct? If not, what's the correct one. Also check if your code for Q1 is correct."
   ]
  },
  {
   "cell_type": "code",
   "execution_count": 62,
   "metadata": {},
   "outputs": [],
   "source": [
    "# select the row where chicken bowl costs 32.94\n"
   ]
  },
  {
   "cell_type": "code",
   "execution_count": 63,
   "metadata": {},
   "outputs": [],
   "source": [
    "# correct the code in Q3.\n"
   ]
  },
  {
   "cell_type": "markdown",
   "metadata": {},
   "source": [
    "### Q4: What's the total price for each order? Plot a histogram of how much each order spends?"
   ]
  },
  {
   "cell_type": "code",
   "execution_count": 64,
   "metadata": {},
   "outputs": [],
   "source": [
    "# table for the total price of each order \n"
   ]
  },
  {
   "cell_type": "code",
   "execution_count": 65,
   "metadata": {},
   "outputs": [],
   "source": [
    "# Plot that\n"
   ]
  },
  {
   "cell_type": "markdown",
   "metadata": {},
   "source": [
    "Can you locate your order habit in the plot above? I think the plot will be more informative if we look at only order below 20 bucks and select a smaller binwidth."
   ]
  },
  {
   "cell_type": "markdown",
   "metadata": {},
   "source": [
    "### Q5: Change the plot in Q4 such that we look only at orders below 20 and use a smaller binwidth."
   ]
  },
  {
   "cell_type": "code",
   "execution_count": null,
   "metadata": {
    "collapsed": true
   },
   "outputs": [],
   "source": []
  },
  {
   "cell_type": "markdown",
   "metadata": {},
   "source": [
    "How does your spending habits at Chipotle compare to those who are in the dataset?"
   ]
  },
  {
   "cell_type": "markdown",
   "metadata": {},
   "source": [
    "### Q6: Are bowls more popular or burritos more popular? Create a bar plot where the y axis is the amount sold, and the x axis contains one bar for bowl, one bar for burrito."
   ]
  },
  {
   "cell_type": "code",
   "execution_count": null,
   "metadata": {},
   "outputs": [],
   "source": []
  },
  {
   "cell_type": "code",
   "execution_count": null,
   "metadata": {},
   "outputs": [],
   "source": []
  },
  {
   "cell_type": "markdown",
   "metadata": {},
   "source": [
    "### Q7: What percentage of orders contain at least one drink of any kind?"
   ]
  },
  {
   "cell_type": "code",
   "execution_count": null,
   "metadata": {},
   "outputs": [],
   "source": []
  },
  {
   "cell_type": "markdown",
   "metadata": {},
   "source": [
    "### Bonus Question: Suppose for any non drink item sold, 20% of the price is profit, for any drink sold, 85% is profit. According to our data, what percentage of total profit comes from drinks?"
   ]
  },
  {
   "cell_type": "code",
   "execution_count": null,
   "metadata": {
    "collapsed": true
   },
   "outputs": [],
   "source": []
  }
 ],
 "metadata": {
  "kernelspec": {
   "display_name": "R",
   "language": "R",
   "name": "ir"
  },
  "language_info": {
   "codemirror_mode": "r",
   "file_extension": ".r",
   "mimetype": "text/x-r-source",
   "name": "R",
   "pygments_lexer": "r",
   "version": "3.5.1"
  }
 },
 "nbformat": 4,
 "nbformat_minor": 2
}
