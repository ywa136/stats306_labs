{
 "cells": [
  {
   "cell_type": "markdown",
   "metadata": {},
   "source": [
    "# Lab 4: AirBnB data\n",
    "\n",
    "This week, we look at some airbnb listings. We look at covariance between columns, and practice table merging."
   ]
  },
  {
   "cell_type": "code",
   "execution_count": 1,
   "metadata": {},
   "outputs": [
    {
     "name": "stderr",
     "output_type": "stream",
     "text": [
      "\n",
      "Attaching package: 'dplyr'\n",
      "\n",
      "The following objects are masked from 'package:stats':\n",
      "\n",
      "    filter, lag\n",
      "\n",
      "The following objects are masked from 'package:base':\n",
      "\n",
      "    intersect, setdiff, setequal, union\n",
      "\n"
     ]
    }
   ],
   "source": [
    "library(dplyr)\n",
    "library(ggplot2)\n",
    "load(\"lab4.Rdata\")"
   ]
  },
  {
   "cell_type": "markdown",
   "metadata": {},
   "source": [
    "lab4.RData contains two data frames: listing, demo. Let's take a look.\n",
    "listing basically has all the info you would find on a rental page."
   ]
  },
  {
   "cell_type": "code",
   "execution_count": 9,
   "metadata": {},
   "outputs": [
    {
     "name": "stdout",
     "output_type": "stream",
     "text": [
      "Observations: 23,624\n",
      "Variables: 29\n",
      "$ accommodates                <dbl> 2, 2, 6, 1, 2, 2, 2, 2, 3, 1, 2, 4, 3, ...\n",
      "$ amenities                   <chr> \"{}\", \"{\\\"Wireless Internet\\\",\\\"Air con...\n",
      "$ availability_30             <int> 29, 18, 3, 0, 6, 22, 10, 0, 3, 20, 17, ...\n",
      "$ bathrooms                   <dbl> 1.0, 1.0, 1.0, 1.0, 1.0, NA, 1.5, 1.0, ...\n",
      "$ bed_type                    <chr> \"Real Bed\", \"Real Bed\", \"Real Bed\", \"Re...\n",
      "$ bedrooms                    <dbl> 1, 1, 1, 1, 1, 1, 1, 1, 1, 1, 1, 1, 1, ...\n",
      "$ beds                        <dbl> 1, 1, 3, 1, 1, 1, 2, 1, 2, 1, 1, 1, 1, ...\n",
      "$ cancellation_policy         <chr> \"flexible\", \"flexible\", \"flexible\", \"fl...\n",
      "$ city                        <chr> \"palmdale\", \"acton\", \"acton\", \"los ange...\n",
      "$ has_availability            <lgl> NA, NA, NA, NA, NA, NA, NA, NA, NA, NA,...\n",
      "$ host_id                     <int> 44800067, 84615808, 71743973, 41646908,...\n",
      "$ id                          <int> 8909380, 14078522, 13006928, 7898757, 1...\n",
      "$ instant_bookable            <chr> \"f\", \"f\", \"t\", \"f\", \"f\", \"f\", \"f\", \"f\",...\n",
      "$ latitude                    <dbl> 34.48543, 34.51013, 34.51549, 34.03142,...\n",
      "$ longitude                   <dbl> -118.1254, -118.2124, -118.2307, -118.2...\n",
      "$ metropolitan                <chr> \"LA\", \"LA\", \"LA\", \"LA\", \"LA\", \"LA\", \"LA...\n",
      "$ name                        <chr> \"Nice quiet private ranch house\", \"Room...\n",
      "$ price                       <dbl> 50, 55, 150, 30, 45, 56, 80, 120, 55, 5...\n",
      "$ property_type               <chr> \"House\", \"House\", \"Other\", \"Apartment\",...\n",
      "$ review_scores_checkin       <dbl> 10, 10, 10, 10, 10, 9, 10, 10, 10, 9, 1...\n",
      "$ review_scores_cleanliness   <dbl> 10, 10, 10, 9, 10, 8, 10, 10, 9, 9, 10,...\n",
      "$ review_scores_communication <dbl> 10, 10, 10, 10, 10, 9, 10, 10, 10, 9, 1...\n",
      "$ review_scores_location      <dbl> 9, 10, 10, 9, 10, 8, 9, 9, 9, 8, 9, 7, ...\n",
      "$ review_scores_rating        <dbl> 93, 100, 100, 93, 98, 89, 99, 99, 92, 8...\n",
      "$ review_scores_value         <dbl> 9, 10, 10, 10, 10, 9, 10, 10, 9, 9, 10,...\n",
      "$ room_type                   <chr> \"Private room\", \"Private room\", \"Entire...\n",
      "$ state                       <chr> \"CA\", \"CA\", \"CA\", \"CA\", \"CA\", \"CA\", \"CA...\n",
      "$ weekly_price                <chr> \"\", \"\", \"\", \"\", \"\", \"$320.00\", \"$500.00...\n",
      "$ zipcode                     <chr> \"93550\", \"93510\", \"93510\", \"90007\", \"90...\n"
     ]
    }
   ],
   "source": [
    "listing %>% glimpse()"
   ]
  },
  {
   "cell_type": "markdown",
   "metadata": {},
   "source": [
    "Some demographic info by zipcode are in demo"
   ]
  },
  {
   "cell_type": "code",
   "execution_count": 10,
   "metadata": {},
   "outputs": [
    {
     "data": {
      "text/html": [
       "<table>\n",
       "<thead><tr><th scope=col>zipcode</th><th scope=col>population</th><th scope=col>median_household_income</th><th scope=col>mean_household_income</th></tr></thead>\n",
       "<tbody>\n",
       "\t<tr><td>601  </td><td>17982</td><td>10816</td><td>20349</td></tr>\n",
       "\t<tr><td>602  </td><td>40260</td><td>16079</td><td>23282</td></tr>\n",
       "\t<tr><td>603  </td><td>52408</td><td>16804</td><td>26820</td></tr>\n",
       "\t<tr><td>606  </td><td> 6331</td><td>12512</td><td>15730</td></tr>\n",
       "\t<tr><td>610  </td><td>28328</td><td>17475</td><td>23360</td></tr>\n",
       "\t<tr><td>612  </td><td>64816</td><td>17229</td><td>25590</td></tr>\n",
       "</tbody>\n",
       "</table>\n"
      ],
      "text/latex": [
       "\\begin{tabular}{r|llll}\n",
       " zipcode & population & median\\_household\\_income & mean\\_household\\_income\\\\\n",
       "\\hline\n",
       "\t 601   & 17982 & 10816 & 20349\\\\\n",
       "\t 602   & 40260 & 16079 & 23282\\\\\n",
       "\t 603   & 52408 & 16804 & 26820\\\\\n",
       "\t 606   &  6331 & 12512 & 15730\\\\\n",
       "\t 610   & 28328 & 17475 & 23360\\\\\n",
       "\t 612   & 64816 & 17229 & 25590\\\\\n",
       "\\end{tabular}\n"
      ],
      "text/markdown": [
       "\n",
       "zipcode | population | median_household_income | mean_household_income | \n",
       "|---|---|---|---|---|---|\n",
       "| 601   | 17982 | 10816 | 20349 | \n",
       "| 602   | 40260 | 16079 | 23282 | \n",
       "| 603   | 52408 | 16804 | 26820 | \n",
       "| 606   |  6331 | 12512 | 15730 | \n",
       "| 610   | 28328 | 17475 | 23360 | \n",
       "| 612   | 64816 | 17229 | 25590 | \n",
       "\n",
       "\n"
      ],
      "text/plain": [
       "  zipcode population median_household_income mean_household_income\n",
       "1 601     17982      10816                   20349                \n",
       "2 602     40260      16079                   23282                \n",
       "3 603     52408      16804                   26820                \n",
       "4 606      6331      12512                   15730                \n",
       "5 610     28328      17475                   23360                \n",
       "6 612     64816      17229                   25590                "
      ]
     },
     "metadata": {},
     "output_type": "display_data"
    }
   ],
   "source": [
    "demo %>% head()"
   ]
  },
  {
   "cell_type": "markdown",
   "metadata": {},
   "source": [
    "### Goal: \n",
    "Airbnb is meant for home sharing, but there are hosts with more than 20 listings. This is more like commercial hotels without regulation than home sharing. We would like to identify such users and see what their impact is on the airbnb ecosystem."
   ]
  },
  {
   "cell_type": "markdown",
   "metadata": {},
   "source": [
    "### Step 1:\n",
    "host_id is a unique identifier for host. id is a unique identifier for listing. Construct a table where for each host_id, we have the number of unique ids, and the mean review_scores_value for that host_id. Call this table tb1. Name the 3 resulting columns host_id, nid, and mean_review."
   ]
  },
  {
   "cell_type": "code",
   "execution_count": null,
   "metadata": {
    "collapsed": true
   },
   "outputs": [],
   "source": []
  },
  {
   "cell_type": "markdown",
   "metadata": {},
   "source": [
    "### Step 2:\n",
    "\n",
    "Look at a digital clock:\n",
    "* if the minute is odd, Create a sequence of box plots, where the x axis is nid, and y axis is mean_review. \n",
    "* if the minute is even, create a scatter plot of mean_review vs nid, add a smooth fitted line.\n",
    " \n",
    "What do you see? If you have made both, what are the things that you can pick off from one plot but not the other?"
   ]
  },
  {
   "cell_type": "code",
   "execution_count": null,
   "metadata": {
    "collapsed": true
   },
   "outputs": [],
   "source": []
  },
  {
   "cell_type": "code",
   "execution_count": null,
   "metadata": {
    "collapsed": true
   },
   "outputs": [],
   "source": []
  },
  {
   "cell_type": "markdown",
   "metadata": {},
   "source": [
    "### Step 3:\n",
    "Let's define commercial hosts to be hosts with >= 5 listings. Create a column in listing indicating if this row has a commercial host. (hint: you need to merge tables for this, at least I needed)"
   ]
  },
  {
   "cell_type": "code",
   "execution_count": null,
   "metadata": {
    "collapsed": true
   },
   "outputs": [],
   "source": []
  },
  {
   "cell_type": "markdown",
   "metadata": {},
   "source": [
    "### Step 4:\n",
    "In listing, find for each zipcode, the total number of listings, the number of commercial listings (any listing by a commercial host is a commercial listing), and the mean price of all listings; retain only rows with more than 25 listings. Name this table tb3, name four columns zipcode, nlist, ncomlist, and mp."
   ]
  },
  {
   "cell_type": "code",
   "execution_count": null,
   "metadata": {
    "collapsed": true
   },
   "outputs": [],
   "source": []
  },
  {
   "cell_type": "markdown",
   "metadata": {},
   "source": [
    "### Step 5:\n",
    "In tb3, add a column of boolean value indicating if this zipcode is \"commercial heavy\". We define commercial heavy as the number commercial listings exceeding 20% of the total amount of listings. Name the result tb4."
   ]
  },
  {
   "cell_type": "code",
   "execution_count": null,
   "metadata": {
    "collapsed": true
   },
   "outputs": [],
   "source": []
  },
  {
   "cell_type": "markdown",
   "metadata": {},
   "source": [
    "### Step 6:\n",
    "Merge in demo info into tb4. Name this table tb5"
   ]
  },
  {
   "cell_type": "code",
   "execution_count": null,
   "metadata": {
    "collapsed": true
   },
   "outputs": [],
   "source": []
  },
  {
   "cell_type": "markdown",
   "metadata": {},
   "source": [
    "### Step 7:\n",
    "Create a scatter plot of mean price vs median household income with tb5. Color points by if this zipcode is commercial heavy. What do you see? What do you learn from this plot?"
   ]
  },
  {
   "cell_type": "code",
   "execution_count": null,
   "metadata": {
    "collapsed": true
   },
   "outputs": [],
   "source": []
  },
  {
   "cell_type": "code",
   "execution_count": null,
   "metadata": {
    "collapsed": true
   },
   "outputs": [],
   "source": []
  }
 ],
 "metadata": {
  "kernelspec": {
   "display_name": "R",
   "language": "R",
   "name": "ir"
  },
  "language_info": {
   "codemirror_mode": "r",
   "file_extension": ".r",
   "mimetype": "text/x-r-source",
   "name": "R",
   "pygments_lexer": "r",
   "version": "3.5.1"
  }
 },
 "nbformat": 4,
 "nbformat_minor": 2
}
