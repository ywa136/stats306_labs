{
 "cells": [
  {
   "cell_type": "markdown",
   "metadata": {},
   "source": [
    "# Lab 5: Data manipulation\n"
   ]
  },
  {
   "cell_type": "code",
   "execution_count": 2,
   "metadata": {},
   "outputs": [
    {
     "name": "stderr",
     "output_type": "stream",
     "text": [
      "Loading required package: tidyverse\n",
      "\n",
      "── \u001b[1mAttaching packages\u001b[22m ─────────────────────────────────────── tidyverse 1.2.1 ──\n",
      "\n",
      "\u001b[32m✔\u001b[39m \u001b[34mggplot2\u001b[39m 3.1.0     \u001b[32m✔\u001b[39m \u001b[34mpurrr  \u001b[39m 0.3.0\n",
      "\u001b[32m✔\u001b[39m \u001b[34mtibble \u001b[39m 2.1.3     \u001b[32m✔\u001b[39m \u001b[34mdplyr  \u001b[39m 0.8.1\n",
      "\u001b[32m✔\u001b[39m \u001b[34mtidyr  \u001b[39m 0.8.2     \u001b[32m✔\u001b[39m \u001b[34mstringr\u001b[39m 1.3.1\n",
      "\u001b[32m✔\u001b[39m \u001b[34mreadr  \u001b[39m 1.1.1     \u001b[32m✔\u001b[39m \u001b[34mforcats\u001b[39m 0.3.0\n",
      "\n",
      "Warning message:\n",
      "“package ‘tibble’ was built under R version 3.5.2”\n",
      "Warning message:\n",
      "“package ‘dplyr’ was built under R version 3.5.2”\n",
      "── \u001b[1mConflicts\u001b[22m ────────────────────────────────────────── tidyverse_conflicts() ──\n",
      "\u001b[31m✖\u001b[39m \u001b[34mdplyr\u001b[39m::\u001b[32mfilter()\u001b[39m masks \u001b[34mstats\u001b[39m::filter()\n",
      "\u001b[31m✖\u001b[39m \u001b[34mdplyr\u001b[39m::\u001b[32mlag()\u001b[39m    masks \u001b[34mstats\u001b[39m::lag()\n",
      "\n"
     ]
    }
   ],
   "source": [
    "require(tidyverse)\n",
    "require(stringr)"
   ]
  },
  {
   "cell_type": "markdown",
   "metadata": {},
   "source": [
    "## Data Import\n",
    "\n",
    "The package `readr` (part of `tidyverse`) contains several functions for reading in flat data.\n",
    "\n",
    "`read_csv` reads standard comma-delimited files. There are variants like `read_csv2` (semicolon-delimited) and `read_tsv` (tab-delimited), while `read_delim` allows reading in files with any delimiter.\n",
    "\n",
    "Also note that the equivalents for writing/saving data files also exist, called `write_csv`, etc.\n",
    "\n",
    "Note that these are variants of `read.table`, `read.csv`, `write.table`, etc. which are a part of base R and can also be used for reading in files."
   ]
  },
  {
   "cell_type": "code",
   "execution_count": 3,
   "metadata": {
    "scrolled": true
   },
   "outputs": [
    {
     "name": "stderr",
     "output_type": "stream",
     "text": [
      "Parsed with column specification:\n",
      "cols(\n",
      "  mpg = col_double(),\n",
      "  cyl = col_integer(),\n",
      "  disp = col_double(),\n",
      "  hp = col_integer(),\n",
      "  drat = col_double(),\n",
      "  wt = col_double(),\n",
      "  qsec = col_double(),\n",
      "  vs = col_integer(),\n",
      "  am = col_integer(),\n",
      "  gear = col_integer(),\n",
      "  carb = col_integer(),\n",
      "  car = col_character()\n",
      ")\n",
      "\n"
     ]
    },
    {
     "data": {
      "text/html": [
       "<table>\n",
       "<caption>A tibble: 6 × 12</caption>\n",
       "<thead>\n",
       "\t<tr><th scope=col>mpg</th><th scope=col>cyl</th><th scope=col>disp</th><th scope=col>hp</th><th scope=col>drat</th><th scope=col>wt</th><th scope=col>qsec</th><th scope=col>vs</th><th scope=col>am</th><th scope=col>gear</th><th scope=col>carb</th><th scope=col>car</th></tr>\n",
       "\t<tr><th scope=col>&lt;dbl&gt;</th><th scope=col>&lt;int&gt;</th><th scope=col>&lt;dbl&gt;</th><th scope=col>&lt;int&gt;</th><th scope=col>&lt;dbl&gt;</th><th scope=col>&lt;dbl&gt;</th><th scope=col>&lt;dbl&gt;</th><th scope=col>&lt;int&gt;</th><th scope=col>&lt;int&gt;</th><th scope=col>&lt;int&gt;</th><th scope=col>&lt;int&gt;</th><th scope=col>&lt;chr&gt;</th></tr>\n",
       "</thead>\n",
       "<tbody>\n",
       "\t<tr><td>21.0</td><td>6</td><td>160</td><td>110</td><td>3.90</td><td>2.620</td><td>16.46</td><td>0</td><td>1</td><td>4</td><td>4</td><td>Mazda RX4        </td></tr>\n",
       "\t<tr><td>21.0</td><td>6</td><td>160</td><td>110</td><td>3.90</td><td>2.875</td><td>17.02</td><td>0</td><td>1</td><td>4</td><td>4</td><td>Mazda RX4 Wag    </td></tr>\n",
       "\t<tr><td>22.8</td><td>4</td><td>108</td><td> 93</td><td>3.85</td><td>2.320</td><td>18.61</td><td>1</td><td>1</td><td>4</td><td>1</td><td>Datsun 710       </td></tr>\n",
       "\t<tr><td>21.4</td><td>6</td><td>258</td><td>110</td><td>3.08</td><td>3.215</td><td>19.44</td><td>1</td><td>0</td><td>3</td><td>1</td><td>Hornet 4 Drive   </td></tr>\n",
       "\t<tr><td>18.7</td><td>8</td><td>360</td><td>175</td><td>3.15</td><td>3.440</td><td>17.02</td><td>0</td><td>0</td><td>3</td><td>2</td><td>Hornet Sportabout</td></tr>\n",
       "\t<tr><td>18.1</td><td>6</td><td>225</td><td>105</td><td>2.76</td><td>3.460</td><td>20.22</td><td>1</td><td>0</td><td>3</td><td>1</td><td>Valiant          </td></tr>\n",
       "</tbody>\n",
       "</table>\n"
      ],
      "text/latex": [
       "A tibble: 6 × 12\n",
       "\\begin{tabular}{r|llllllllllll}\n",
       " mpg & cyl & disp & hp & drat & wt & qsec & vs & am & gear & carb & car\\\\\n",
       " <dbl> & <int> & <dbl> & <int> & <dbl> & <dbl> & <dbl> & <int> & <int> & <int> & <int> & <chr>\\\\\n",
       "\\hline\n",
       "\t 21.0 & 6 & 160 & 110 & 3.90 & 2.620 & 16.46 & 0 & 1 & 4 & 4 & Mazda RX4        \\\\\n",
       "\t 21.0 & 6 & 160 & 110 & 3.90 & 2.875 & 17.02 & 0 & 1 & 4 & 4 & Mazda RX4 Wag    \\\\\n",
       "\t 22.8 & 4 & 108 &  93 & 3.85 & 2.320 & 18.61 & 1 & 1 & 4 & 1 & Datsun 710       \\\\\n",
       "\t 21.4 & 6 & 258 & 110 & 3.08 & 3.215 & 19.44 & 1 & 0 & 3 & 1 & Hornet 4 Drive   \\\\\n",
       "\t 18.7 & 8 & 360 & 175 & 3.15 & 3.440 & 17.02 & 0 & 0 & 3 & 2 & Hornet Sportabout\\\\\n",
       "\t 18.1 & 6 & 225 & 105 & 2.76 & 3.460 & 20.22 & 1 & 0 & 3 & 1 & Valiant          \\\\\n",
       "\\end{tabular}\n"
      ],
      "text/markdown": [
       "\n",
       "A tibble: 6 × 12\n",
       "\n",
       "| mpg &lt;dbl&gt; | cyl &lt;int&gt; | disp &lt;dbl&gt; | hp &lt;int&gt; | drat &lt;dbl&gt; | wt &lt;dbl&gt; | qsec &lt;dbl&gt; | vs &lt;int&gt; | am &lt;int&gt; | gear &lt;int&gt; | carb &lt;int&gt; | car &lt;chr&gt; |\n",
       "|---|---|---|---|---|---|---|---|---|---|---|---|\n",
       "| 21.0 | 6 | 160 | 110 | 3.90 | 2.620 | 16.46 | 0 | 1 | 4 | 4 | Mazda RX4         |\n",
       "| 21.0 | 6 | 160 | 110 | 3.90 | 2.875 | 17.02 | 0 | 1 | 4 | 4 | Mazda RX4 Wag     |\n",
       "| 22.8 | 4 | 108 |  93 | 3.85 | 2.320 | 18.61 | 1 | 1 | 4 | 1 | Datsun 710        |\n",
       "| 21.4 | 6 | 258 | 110 | 3.08 | 3.215 | 19.44 | 1 | 0 | 3 | 1 | Hornet 4 Drive    |\n",
       "| 18.7 | 8 | 360 | 175 | 3.15 | 3.440 | 17.02 | 0 | 0 | 3 | 2 | Hornet Sportabout |\n",
       "| 18.1 | 6 | 225 | 105 | 2.76 | 3.460 | 20.22 | 1 | 0 | 3 | 1 | Valiant           |\n",
       "\n"
      ],
      "text/plain": [
       "  mpg  cyl disp hp  drat wt    qsec  vs am gear carb car              \n",
       "1 21.0 6   160  110 3.90 2.620 16.46 0  1  4    4    Mazda RX4        \n",
       "2 21.0 6   160  110 3.90 2.875 17.02 0  1  4    4    Mazda RX4 Wag    \n",
       "3 22.8 4   108   93 3.85 2.320 18.61 1  1  4    1    Datsun 710       \n",
       "4 21.4 6   258  110 3.08 3.215 19.44 1  0  3    1    Hornet 4 Drive   \n",
       "5 18.7 8   360  175 3.15 3.440 17.02 0  0  3    2    Hornet Sportabout\n",
       "6 18.1 6   225  105 2.76 3.460 20.22 1  0  3    1    Valiant          "
      ]
     },
     "metadata": {},
     "output_type": "display_data"
    }
   ],
   "source": [
    "mtcars$car = rownames(mtcars)\n",
    "\n",
    "write_csv(mtcars, \"mtcars.csv\")\n",
    "mydat = read_csv(\"mtcars.csv\")\n",
    "head(mydat)"
   ]
  },
  {
   "cell_type": "markdown",
   "metadata": {},
   "source": [
    "Notice that `readr` gets its column names from the first row of the CSV. If the first lines are metadata instead of column names, you can use the following to skip those lines."
   ]
  },
  {
   "cell_type": "code",
   "execution_count": 12,
   "metadata": {},
   "outputs": [
    {
     "data": {
      "text/html": [
       "<table>\n",
       "<thead><tr><th scope=col>x</th><th scope=col>y</th><th scope=col>z</th></tr></thead>\n",
       "<tbody>\n",
       "\t<tr><td>1</td><td>2</td><td>3</td></tr>\n",
       "</tbody>\n",
       "</table>\n"
      ],
      "text/latex": [
       "\\begin{tabular}{r|lll}\n",
       " x & y & z\\\\\n",
       "\\hline\n",
       "\t 1 & 2 & 3\\\\\n",
       "\\end{tabular}\n"
      ],
      "text/markdown": [
       "\n",
       "x | y | z | \n",
       "|---|\n",
       "| 1 | 2 | 3 | \n",
       "\n",
       "\n"
      ],
      "text/plain": [
       "  x y z\n",
       "1 1 2 3"
      ]
     },
     "metadata": {},
     "output_type": "display_data"
    }
   ],
   "source": [
    "read_csv(\n",
    "\"The first line of metadata\n",
    "The second line of metadata\n",
    "x,y,z\n",
    "1,2,3\", skip=2)"
   ]
  },
  {
   "cell_type": "code",
   "execution_count": 13,
   "metadata": {},
   "outputs": [
    {
     "data": {
      "text/html": [
       "<table>\n",
       "<thead><tr><th scope=col>x</th><th scope=col>y</th><th scope=col>z</th></tr></thead>\n",
       "<tbody>\n",
       "\t<tr><td>1</td><td>2</td><td>3</td></tr>\n",
       "</tbody>\n",
       "</table>\n"
      ],
      "text/latex": [
       "\\begin{tabular}{r|lll}\n",
       " x & y & z\\\\\n",
       "\\hline\n",
       "\t 1 & 2 & 3\\\\\n",
       "\\end{tabular}\n"
      ],
      "text/markdown": [
       "\n",
       "x | y | z | \n",
       "|---|\n",
       "| 1 | 2 | 3 | \n",
       "\n",
       "\n"
      ],
      "text/plain": [
       "  x y z\n",
       "1 1 2 3"
      ]
     },
     "metadata": {},
     "output_type": "display_data"
    }
   ],
   "source": [
    "read_csv(\n",
    "\"# A comment I want to skip\n",
    "x,y,z\n",
    "1,2,3\", comment='#')"
   ]
  },
  {
   "cell_type": "markdown",
   "metadata": {},
   "source": [
    "Sometimes the columns don't have names. Then you can tell `readr` to create the column names."
   ]
  },
  {
   "cell_type": "code",
   "execution_count": 14,
   "metadata": {},
   "outputs": [
    {
     "data": {
      "text/html": [
       "<table>\n",
       "<thead><tr><th scope=col>X1</th><th scope=col>X2</th><th scope=col>X3</th></tr></thead>\n",
       "<tbody>\n",
       "\t<tr><td>1</td><td>2</td><td>3</td></tr>\n",
       "\t<tr><td>4</td><td>5</td><td>6</td></tr>\n",
       "</tbody>\n",
       "</table>\n"
      ],
      "text/latex": [
       "\\begin{tabular}{r|lll}\n",
       " X1 & X2 & X3\\\\\n",
       "\\hline\n",
       "\t 1 & 2 & 3\\\\\n",
       "\t 4 & 5 & 6\\\\\n",
       "\\end{tabular}\n"
      ],
      "text/markdown": [
       "\n",
       "X1 | X2 | X3 | \n",
       "|---|---|\n",
       "| 1 | 2 | 3 | \n",
       "| 4 | 5 | 6 | \n",
       "\n",
       "\n"
      ],
      "text/plain": [
       "  X1 X2 X3\n",
       "1 1  2  3 \n",
       "2 4  5  6 "
      ]
     },
     "metadata": {},
     "output_type": "display_data"
    }
   ],
   "source": [
    "read_csv(\"mtcars.csv\", col_names=FALSE)"
   ]
  },
  {
   "cell_type": "code",
   "execution_count": 15,
   "metadata": {},
   "outputs": [
    {
     "data": {
      "text/html": [
       "<table>\n",
       "<thead><tr><th scope=col>x</th><th scope=col>y</th><th scope=col>z</th></tr></thead>\n",
       "<tbody>\n",
       "\t<tr><td>1</td><td>2</td><td>3</td></tr>\n",
       "\t<tr><td>4</td><td>5</td><td>6</td></tr>\n",
       "</tbody>\n",
       "</table>\n"
      ],
      "text/latex": [
       "\\begin{tabular}{r|lll}\n",
       " x & y & z\\\\\n",
       "\\hline\n",
       "\t 1 & 2 & 3\\\\\n",
       "\t 4 & 5 & 6\\\\\n",
       "\\end{tabular}\n"
      ],
      "text/markdown": [
       "\n",
       "x | y | z | \n",
       "|---|---|\n",
       "| 1 | 2 | 3 | \n",
       "| 4 | 5 | 6 | \n",
       "\n",
       "\n"
      ],
      "text/plain": [
       "  x y z\n",
       "1 1 2 3\n",
       "2 4 5 6"
      ]
     },
     "metadata": {},
     "output_type": "display_data"
    }
   ],
   "source": [
    "read_csv(\n",
    "\"1,2,3\n",
    "4,5,6\", col_names=c(\"x\", \"y\", \"z\"))"
   ]
  },
  {
   "cell_type": "markdown",
   "metadata": {},
   "source": [
    "Another option that commonly needs tweaking is `na`: this specifies the value (or values) that are used to represent missing values in your file:"
   ]
  },
  {
   "cell_type": "code",
   "execution_count": 16,
   "metadata": {},
   "outputs": [
    {
     "data": {
      "text/html": [
       "<table>\n",
       "<thead><tr><th scope=col>a</th><th scope=col>b</th><th scope=col>c</th></tr></thead>\n",
       "<tbody>\n",
       "\t<tr><td>1 </td><td>2 </td><td>NA</td></tr>\n",
       "</tbody>\n",
       "</table>\n"
      ],
      "text/latex": [
       "\\begin{tabular}{r|lll}\n",
       " a & b & c\\\\\n",
       "\\hline\n",
       "\t 1  & 2  & NA\\\\\n",
       "\\end{tabular}\n"
      ],
      "text/markdown": [
       "\n",
       "a | b | c | \n",
       "|---|\n",
       "| 1  | 2  | NA | \n",
       "\n",
       "\n"
      ],
      "text/plain": [
       "  a b c \n",
       "1 1 2 NA"
      ]
     },
     "metadata": {},
     "output_type": "display_data"
    }
   ],
   "source": [
    "read_csv(\n",
    "\"a,b,c\n",
    "1,2,.\", na='.')"
   ]
  },
  {
   "cell_type": "markdown",
   "metadata": {},
   "source": [
    "## `gather` and `spread`"
   ]
  },
  {
   "cell_type": "markdown",
   "metadata": {},
   "source": [
    "Remember that `gather` transforms datasets from \"wide\" to \"long,\" collecting different column names into a variable. `spread` does the opposite, turning \"long\" datasets into \"wide\" ones by spreading out a variable's values into the column names."
   ]
  },
  {
   "cell_type": "code",
   "execution_count": 5,
   "metadata": {},
   "outputs": [
    {
     "data": {
      "text/html": [
       "<table>\n",
       "<caption>A tibble: 2 × 4</caption>\n",
       "<thead>\n",
       "\t<tr><th scope=col>name</th><th scope=col>2015</th><th scope=col>2016</th><th scope=col>2017</th></tr>\n",
       "\t<tr><th scope=col>&lt;chr&gt;</th><th scope=col>&lt;dbl&gt;</th><th scope=col>&lt;dbl&gt;</th><th scope=col>&lt;dbl&gt;</th></tr>\n",
       "</thead>\n",
       "<tbody>\n",
       "\t<tr><td>Roger</td><td>83</td><td>89</td><td>93</td></tr>\n",
       "\t<tr><td>Jon  </td><td>92</td><td>90</td><td>93</td></tr>\n",
       "</tbody>\n",
       "</table>\n"
      ],
      "text/latex": [
       "A tibble: 2 × 4\n",
       "\\begin{tabular}{r|llll}\n",
       " name & 2015 & 2016 & 2017\\\\\n",
       " <chr> & <dbl> & <dbl> & <dbl>\\\\\n",
       "\\hline\n",
       "\t Roger & 83 & 89 & 93\\\\\n",
       "\t Jon   & 92 & 90 & 93\\\\\n",
       "\\end{tabular}\n"
      ],
      "text/markdown": [
       "\n",
       "A tibble: 2 × 4\n",
       "\n",
       "| name &lt;chr&gt; | 2015 &lt;dbl&gt; | 2016 &lt;dbl&gt; | 2017 &lt;dbl&gt; |\n",
       "|---|---|---|---|\n",
       "| Roger | 83 | 89 | 93 |\n",
       "| Jon   | 92 | 90 | 93 |\n",
       "\n"
      ],
      "text/plain": [
       "  name  2015 2016 2017\n",
       "1 Roger 83   89   93  \n",
       "2 Jon   92   90   93  "
      ]
     },
     "metadata": {},
     "output_type": "display_data"
    }
   ],
   "source": [
    "grades_wide = tribble(\n",
    "  ~name,  ~`2015`, ~`2016`, ~`2017`,\n",
    "'Roger',       83,      89,      93,\n",
    "  'Jon',       92,      90,      93)\n",
    "grades_wide"
   ]
  },
  {
   "cell_type": "code",
   "execution_count": 6,
   "metadata": {},
   "outputs": [
    {
     "data": {
      "text/html": [
       "<table>\n",
       "<caption>A tibble: 6 × 3</caption>\n",
       "<thead>\n",
       "\t<tr><th scope=col>name</th><th scope=col>year</th><th scope=col>grade</th></tr>\n",
       "\t<tr><th scope=col>&lt;chr&gt;</th><th scope=col>&lt;chr&gt;</th><th scope=col>&lt;dbl&gt;</th></tr>\n",
       "</thead>\n",
       "<tbody>\n",
       "\t<tr><td>Roger</td><td>2015</td><td>83</td></tr>\n",
       "\t<tr><td>Jon  </td><td>2015</td><td>92</td></tr>\n",
       "\t<tr><td>Roger</td><td>2016</td><td>89</td></tr>\n",
       "\t<tr><td>Jon  </td><td>2016</td><td>90</td></tr>\n",
       "\t<tr><td>Roger</td><td>2017</td><td>93</td></tr>\n",
       "\t<tr><td>Jon  </td><td>2017</td><td>93</td></tr>\n",
       "</tbody>\n",
       "</table>\n"
      ],
      "text/latex": [
       "A tibble: 6 × 3\n",
       "\\begin{tabular}{r|lll}\n",
       " name & year & grade\\\\\n",
       " <chr> & <chr> & <dbl>\\\\\n",
       "\\hline\n",
       "\t Roger & 2015 & 83\\\\\n",
       "\t Jon   & 2015 & 92\\\\\n",
       "\t Roger & 2016 & 89\\\\\n",
       "\t Jon   & 2016 & 90\\\\\n",
       "\t Roger & 2017 & 93\\\\\n",
       "\t Jon   & 2017 & 93\\\\\n",
       "\\end{tabular}\n"
      ],
      "text/markdown": [
       "\n",
       "A tibble: 6 × 3\n",
       "\n",
       "| name &lt;chr&gt; | year &lt;chr&gt; | grade &lt;dbl&gt; |\n",
       "|---|---|---|\n",
       "| Roger | 2015 | 83 |\n",
       "| Jon   | 2015 | 92 |\n",
       "| Roger | 2016 | 89 |\n",
       "| Jon   | 2016 | 90 |\n",
       "| Roger | 2017 | 93 |\n",
       "| Jon   | 2017 | 93 |\n",
       "\n"
      ],
      "text/plain": [
       "  name  year grade\n",
       "1 Roger 2015 83   \n",
       "2 Jon   2015 92   \n",
       "3 Roger 2016 89   \n",
       "4 Jon   2016 90   \n",
       "5 Roger 2017 93   \n",
       "6 Jon   2017 93   "
      ]
     },
     "metadata": {},
     "output_type": "display_data"
    }
   ],
   "source": [
    "grades_long = grades_wide %>% gather(key=year, value=grade, `2015`:`2017`)\n",
    "grades_long"
   ]
  },
  {
   "cell_type": "code",
   "execution_count": 19,
   "metadata": {},
   "outputs": [
    {
     "data": {
      "text/html": [
       "<table>\n",
       "<thead><tr><th scope=col>name</th><th scope=col>2015</th><th scope=col>2016</th><th scope=col>2017</th></tr></thead>\n",
       "<tbody>\n",
       "\t<tr><td>Jon  </td><td>92   </td><td>90   </td><td>93   </td></tr>\n",
       "\t<tr><td>Roger</td><td>83   </td><td>89   </td><td>93   </td></tr>\n",
       "</tbody>\n",
       "</table>\n"
      ],
      "text/latex": [
       "\\begin{tabular}{r|llll}\n",
       " name & 2015 & 2016 & 2017\\\\\n",
       "\\hline\n",
       "\t Jon   & 92    & 90    & 93   \\\\\n",
       "\t Roger & 83    & 89    & 93   \\\\\n",
       "\\end{tabular}\n"
      ],
      "text/markdown": [
       "\n",
       "name | 2015 | 2016 | 2017 | \n",
       "|---|---|\n",
       "| Jon   | 92    | 90    | 93    | \n",
       "| Roger | 83    | 89    | 93    | \n",
       "\n",
       "\n"
      ],
      "text/plain": [
       "  name  2015 2016 2017\n",
       "1 Jon   92   90   93  \n",
       "2 Roger 83   89   93  "
      ]
     },
     "metadata": {},
     "output_type": "display_data"
    }
   ],
   "source": [
    "grades_long %>% spread(key=year, value=grade)"
   ]
  },
  {
   "cell_type": "markdown",
   "metadata": {},
   "source": [
    "## MLB Data\n",
    "\n",
    "This dataset contains information for player-seasons in the American League from 2015 to 2018. For those unfamiliar with baseball:\n",
    "* `PA`: Plate Appearances, the number of times a player came up to bat.\n",
    "* `HR`: number of home runs.\n",
    "* `BBrate`: The number of walks (BBs) as a percentage of plate appearances.\n",
    "* `BB`: The number of walks.\n",
    "* `K`: The number of strikeouts.\n",
    "* `AVG`: A batters batting average.\n",
    "* `FB`: The number of fly balls a batter hit.\n",
    "\n",
    "Note: Also recall the functions `unite`, `separate`, and `complete`."
   ]
  },
  {
   "cell_type": "code",
   "execution_count": 7,
   "metadata": {},
   "outputs": [
    {
     "name": "stderr",
     "output_type": "stream",
     "text": [
      "Parsed with column specification:\n",
      "cols(\n",
      "  year = col_integer(),\n",
      "  name = col_character(),\n",
      "  team = col_character(),\n",
      "  division = col_character(),\n",
      "  PA = col_integer(),\n",
      "  HR = col_integer(),\n",
      "  BBrate = col_character(),\n",
      "  BB_K = col_character(),\n",
      "  AVG = col_double(),\n",
      "  FB = col_integer(),\n",
      "  playerid = col_integer()\n",
      ")\n",
      "\n"
     ]
    },
    {
     "data": {
      "text/html": [
       "<table>\n",
       "<caption>A tibble: 6 × 11</caption>\n",
       "<thead>\n",
       "\t<tr><th scope=col>year</th><th scope=col>name</th><th scope=col>team</th><th scope=col>division</th><th scope=col>PA</th><th scope=col>HR</th><th scope=col>BBrate</th><th scope=col>BB_K</th><th scope=col>AVG</th><th scope=col>FB</th><th scope=col>playerid</th></tr>\n",
       "\t<tr><th scope=col>&lt;int&gt;</th><th scope=col>&lt;chr&gt;</th><th scope=col>&lt;chr&gt;</th><th scope=col>&lt;chr&gt;</th><th scope=col>&lt;int&gt;</th><th scope=col>&lt;int&gt;</th><th scope=col>&lt;chr&gt;</th><th scope=col>&lt;chr&gt;</th><th scope=col>&lt;dbl&gt;</th><th scope=col>&lt;int&gt;</th><th scope=col>&lt;int&gt;</th></tr>\n",
       "</thead>\n",
       "<tbody>\n",
       "\t<tr><td>2016</td><td>Abraham Almonte</td><td>Indians</td><td>Central</td><td>194</td><td>1</td><td>4.1 % </td><td>8/42 </td><td>0.264</td><td>43</td><td> 5486</td></tr>\n",
       "\t<tr><td>2017</td><td>Abraham Almonte</td><td>Indians</td><td>Central</td><td>195</td><td>3</td><td>10.3 %</td><td>20/46</td><td>0.233</td><td>34</td><td> 5486</td></tr>\n",
       "\t<tr><td>2015</td><td>Adam Moore     </td><td>Indians</td><td>Central</td><td>  4</td><td>0</td><td>0.0 % </td><td>0/2  </td><td>0.250</td><td> 1</td><td> 9362</td></tr>\n",
       "\t<tr><td>2016</td><td>Adam Moore     </td><td>Indians</td><td>Central</td><td>  5</td><td>0</td><td>0.0 % </td><td>0/4  </td><td>0.000</td><td> 1</td><td> 9362</td></tr>\n",
       "\t<tr><td>2018</td><td>Adam Plutko    </td><td>Indians</td><td>Central</td><td>  2</td><td>0</td><td>0.0 % </td><td>0/0  </td><td>0.000</td><td> 0</td><td>15846</td></tr>\n",
       "\t<tr><td>2018</td><td>Adam Rosales   </td><td>Indians</td><td>Central</td><td> 21</td><td>1</td><td>4.8 % </td><td>1/5  </td><td>0.211</td><td> 7</td><td> 9682</td></tr>\n",
       "</tbody>\n",
       "</table>\n"
      ],
      "text/latex": [
       "A tibble: 6 × 11\n",
       "\\begin{tabular}{r|lllllllllll}\n",
       " year & name & team & division & PA & HR & BBrate & BB\\_K & AVG & FB & playerid\\\\\n",
       " <int> & <chr> & <chr> & <chr> & <int> & <int> & <chr> & <chr> & <dbl> & <int> & <int>\\\\\n",
       "\\hline\n",
       "\t 2016 & Abraham Almonte & Indians & Central & 194 & 1 & 4.1 \\%  & 8/42  & 0.264 & 43 &  5486\\\\\n",
       "\t 2017 & Abraham Almonte & Indians & Central & 195 & 3 & 10.3 \\% & 20/46 & 0.233 & 34 &  5486\\\\\n",
       "\t 2015 & Adam Moore      & Indians & Central &   4 & 0 & 0.0 \\%  & 0/2   & 0.250 &  1 &  9362\\\\\n",
       "\t 2016 & Adam Moore      & Indians & Central &   5 & 0 & 0.0 \\%  & 0/4   & 0.000 &  1 &  9362\\\\\n",
       "\t 2018 & Adam Plutko     & Indians & Central &   2 & 0 & 0.0 \\%  & 0/0   & 0.000 &  0 & 15846\\\\\n",
       "\t 2018 & Adam Rosales    & Indians & Central &  21 & 1 & 4.8 \\%  & 1/5   & 0.211 &  7 &  9682\\\\\n",
       "\\end{tabular}\n"
      ],
      "text/markdown": [
       "\n",
       "A tibble: 6 × 11\n",
       "\n",
       "| year &lt;int&gt; | name &lt;chr&gt; | team &lt;chr&gt; | division &lt;chr&gt; | PA &lt;int&gt; | HR &lt;int&gt; | BBrate &lt;chr&gt; | BB_K &lt;chr&gt; | AVG &lt;dbl&gt; | FB &lt;int&gt; | playerid &lt;int&gt; |\n",
       "|---|---|---|---|---|---|---|---|---|---|---|\n",
       "| 2016 | Abraham Almonte | Indians | Central | 194 | 1 | 4.1 %  | 8/42  | 0.264 | 43 |  5486 |\n",
       "| 2017 | Abraham Almonte | Indians | Central | 195 | 3 | 10.3 % | 20/46 | 0.233 | 34 |  5486 |\n",
       "| 2015 | Adam Moore      | Indians | Central |   4 | 0 | 0.0 %  | 0/2   | 0.250 |  1 |  9362 |\n",
       "| 2016 | Adam Moore      | Indians | Central |   5 | 0 | 0.0 %  | 0/4   | 0.000 |  1 |  9362 |\n",
       "| 2018 | Adam Plutko     | Indians | Central |   2 | 0 | 0.0 %  | 0/0   | 0.000 |  0 | 15846 |\n",
       "| 2018 | Adam Rosales    | Indians | Central |  21 | 1 | 4.8 %  | 1/5   | 0.211 |  7 |  9682 |\n",
       "\n"
      ],
      "text/plain": [
       "  year name            team    division PA  HR BBrate BB_K  AVG   FB playerid\n",
       "1 2016 Abraham Almonte Indians Central  194 1  4.1 %  8/42  0.264 43  5486   \n",
       "2 2017 Abraham Almonte Indians Central  195 3  10.3 % 20/46 0.233 34  5486   \n",
       "3 2015 Adam Moore      Indians Central    4 0  0.0 %  0/2   0.250  1  9362   \n",
       "4 2016 Adam Moore      Indians Central    5 0  0.0 %  0/4   0.000  1  9362   \n",
       "5 2018 Adam Plutko     Indians Central    2 0  0.0 %  0/0   0.000  0 15846   \n",
       "6 2018 Adam Rosales    Indians Central   21 1  4.8 %  1/5   0.211  7  9682   "
      ]
     },
     "metadata": {},
     "output_type": "display_data"
    }
   ],
   "source": [
    "mlb = read_csv('mlb.csv')\n",
    "head(mlb)"
   ]
  },
  {
   "cell_type": "markdown",
   "metadata": {},
   "source": [
    "### Problem 1\n",
    "\n",
    "Note that `BBrate` and `BB_K` were read in as strings. Clean up these variables and convert them to numeric variables, noting that `BB_K` should be two variables named `BB` and `K`."
   ]
  },
  {
   "cell_type": "code",
   "execution_count": 1,
   "metadata": {},
   "outputs": [
    {
     "data": {
      "text/html": [
       "&lt;NA&gt;"
      ],
      "text/latex": [
       "<NA>"
      ],
      "text/markdown": [
       "&lt;NA&gt;"
      ],
      "text/plain": [
       "[1] NA"
      ]
     },
     "metadata": {},
     "output_type": "display_data"
    }
   ],
   "source": [
    "dat1 = NA\n",
    "head(dat1)"
   ]
  },
  {
   "cell_type": "markdown",
   "metadata": {},
   "source": [
    "### Problem 2\n",
    "\n",
    "Calculate the HR per FB rate for each team and year. Convert this to a long dataset, so your variables should be `division`, `team`, and `2015`-`2018`, where values are the HR/FB rate. Note that you should ensure that `division` is still in the dataset.\n",
    "\n",
    "Create a variable called `increased`, which checks if the HR/FB rate was higher in 2018 than it was in 2015 for that team."
   ]
  },
  {
   "cell_type": "code",
   "execution_count": 2,
   "metadata": {},
   "outputs": [
    {
     "data": {
      "text/html": [
       "&lt;NA&gt;"
      ],
      "text/latex": [
       "<NA>"
      ],
      "text/markdown": [
       "&lt;NA&gt;"
      ],
      "text/plain": [
       "[1] NA"
      ]
     },
     "metadata": {},
     "output_type": "display_data"
    }
   ],
   "source": [
    "dat2 = NA\n",
    "\n",
    "head(dat2)"
   ]
  },
  {
   "cell_type": "markdown",
   "metadata": {},
   "source": [
    "Turn this back into a \"long\" dataset and create a plot of HR/FB rate on year. Color it by `team`, facet it by `division`, and choose the linetype according to the `increased` variable."
   ]
  },
  {
   "cell_type": "code",
   "execution_count": 7,
   "metadata": {
    "collapsed": true
   },
   "outputs": [],
   "source": [
    "dat2b = dat2\n"
   ]
  },
  {
   "cell_type": "markdown",
   "metadata": {},
   "source": [
    "### Problem 3\n",
    "\n",
    "Go back to `mlb` and calculate total HRs and PAs per year per team. Create a wide version of this dataset. So there should be a `team` variable, then eight variables tracking values: `HR_2015`, `HR_2016`, `HR_2017`, `HR_2018`, `PA_2015`, `PA_2016`, `PA_2017`, and `PA_2018`.\n",
    "\n",
    "Hint: Once you calculate the values you can use a `gather`, `unite`, and `spread` in that order to create the wide version."
   ]
  },
  {
   "cell_type": "code",
   "execution_count": 8,
   "metadata": {},
   "outputs": [
    {
     "data": {
      "text/html": [
       "&lt;NA&gt;"
      ],
      "text/latex": [
       "<NA>"
      ],
      "text/markdown": [
       "&lt;NA&gt;"
      ],
      "text/plain": [
       "[1] NA"
      ]
     },
     "metadata": {},
     "output_type": "display_data"
    }
   ],
   "source": [
    "dat3 = NA\n",
    "\n",
    "head(dat3)"
   ]
  },
  {
   "cell_type": "markdown",
   "metadata": {},
   "source": [
    "### Problem 4\n",
    "\n",
    "Remove player-seasons with less than 200 `PA`. Then, for each player, calculate the change in `AVG` from the previous year to the current year and the change from the current year to the next year. Store these as two variables. If data on the previous or next year is not present, then the corresponding variable should be `NA`.\n",
    "\n",
    "Once you have these two variables, make two plots where the `x`-axis is current year `AVG` and the `y`-axis is each of these difference variables. Can you make both plots with a single command using faceting? (Hint: you may need to do some additional data transformations to accomplish this.) What conclusions can you draw from these plots?"
   ]
  },
  {
   "cell_type": "code",
   "execution_count": 10,
   "metadata": {},
   "outputs": [
    {
     "data": {
      "text/html": [
       "&lt;NA&gt;"
      ],
      "text/latex": [
       "<NA>"
      ],
      "text/markdown": [
       "&lt;NA&gt;"
      ],
      "text/plain": [
       "[1] NA"
      ]
     },
     "metadata": {},
     "output_type": "display_data"
    }
   ],
   "source": [
    "dat4 = NA\n",
    "\n",
    "head(dat4)"
   ]
  },
  {
   "cell_type": "code",
   "execution_count": null,
   "metadata": {
    "collapsed": true
   },
   "outputs": [],
   "source": []
  }
 ],
 "metadata": {
  "kernelspec": {
   "display_name": "R",
   "language": "R",
   "name": "ir"
  },
  "language_info": {
   "codemirror_mode": "r",
   "file_extension": ".r",
   "mimetype": "text/x-r-source",
   "name": "R",
   "pygments_lexer": "r",
   "version": "3.5.1"
  }
 },
 "nbformat": 4,
 "nbformat_minor": 2
}
